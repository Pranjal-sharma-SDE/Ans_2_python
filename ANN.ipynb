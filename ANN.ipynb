{
  "nbformat": 4,
  "nbformat_minor": 0,
  "metadata": {
    "colab": {
      "provenance": [],
      "gpuType": "T4",
      "authorship_tag": "ABX9TyPBypK9pXPuxxCwlztF9HYg",
      "include_colab_link": true
    },
    "kernelspec": {
      "name": "python3",
      "display_name": "Python 3"
    },
    "language_info": {
      "name": "python"
    },
    "accelerator": "GPU"
  },
  "cells": [
    {
      "cell_type": "markdown",
      "metadata": {
        "id": "view-in-github",
        "colab_type": "text"
      },
      "source": [
        "<a href=\"https://colab.research.google.com/github/Pranjal-sharma-SDE/Ans_2_python/blob/main/ANN.ipynb\" target=\"_parent\"><img src=\"https://colab.research.google.com/assets/colab-badge.svg\" alt=\"Open In Colab\"/></a>"
      ]
    },
    {
      "cell_type": "code",
      "execution_count": 6,
      "metadata": {
        "id": "YP7wCykm609b"
      },
      "outputs": [],
      "source": [
        "# Load library\n",
        "import tensorflow as tf\n",
        "from tensorflow.keras import layers, models\n",
        "from tensorflow.keras.datasets import mnist\n",
        "from tensorflow.keras.utils import to_categorical\n",
        "import pandas as pd"
      ]
    },
    {
      "cell_type": "code",
      "source": [
        "# Load MNIST dataset\n",
        "(train_images, train_labels),(test_images,test_labels) = mnist.load_data()"
      ],
      "metadata": {
        "id": "F9X_zeAK8GX7"
      },
      "execution_count": 7,
      "outputs": []
    },
    {
      "cell_type": "code",
      "source": [
        "# Preprosessing the data\n",
        "train_images = train_images.reshape((60000, 28, 28, 1)).astype('float32') / 255\n",
        "test_images = test_images.reshape((10000, 28, 28, 1)).astype('float32') / 255\n",
        "\n",
        "train_labels = to_categorical(train_labels)\n",
        "test_labels = to_categorical(test_labels)"
      ],
      "metadata": {
        "id": "zRRR1oSS8ki-"
      },
      "execution_count": 8,
      "outputs": []
    },
    {
      "cell_type": "code",
      "source": [
        "# Define different activation functions and optimizers\n",
        "activations = ['relu', 'sigmoid', 'tanh', 'elu', 'selu', 'softmax', 'softplus', 'softsign']\n",
        "optimizers = ['adam', 'sgd', 'rmsprop', 'adagrad', 'adadelta', 'adamax', 'nadam', 'ftrl']"
      ],
      "metadata": {
        "id": "w1IxG9nz_Ihn"
      },
      "execution_count": 9,
      "outputs": []
    },
    {
      "cell_type": "code",
      "source": [
        "# Create a DataFrame to store the results\n",
        "results_df = pd.DataFrame(columns=['Activation', 'Optimizer', 'Accuracy'])"
      ],
      "metadata": {
        "id": "XfnRmmmB_MBK"
      },
      "execution_count": 10,
      "outputs": []
    },
    {
      "cell_type": "code",
      "source": [
        "# Loop through different activation functions and optimizers\n",
        "for activation in activations:\n",
        "    for optimizer in optimizers:\n",
        "\n",
        "        print(f\"{activation} - {optimizer} \")\n",
        "\n",
        "       # Build the neural network model with dropout\n",
        "        model = models.Sequential()\n",
        "        model.add(layers.Flatten(input_shape=(28, 28, 1)))\n",
        "        model.add(layers.Dense(128, activation=activation))\n",
        "        model.add(layers.Dropout(0.25))\n",
        "        model.add(layers.Dense(64, activation=activation))\n",
        "        model.add(layers.Dropout(0.25))\n",
        "        model.add(layers.Dense(10, activation='softmax'))\n",
        "\n",
        "\n",
        "        # Compile the model\n",
        "        model.compile(optimizer=optimizer,\n",
        "                      loss='categorical_crossentropy',\n",
        "                      metrics=['accuracy'])\n",
        "\n",
        "        # Train the model\n",
        "        history = model.fit(train_images, train_labels, epochs=5, batch_size=64, validation_data=(test_images, test_labels))\n",
        "\n",
        "        # Record the results in the DataFrame\n",
        "        results_df = results_df.append({'Activation': activation, 'Optimizer': optimizer, 'Accuracy': history.history['val_accuracy'][-1]}, ignore_index=True)\n",
        "\n",
        "# Display the results\n",
        "print(results_df)"
      ],
      "metadata": {
        "colab": {
          "base_uri": "https://localhost:8080/"
        },
        "id": "DiFy_951_NuS",
        "outputId": "c4c70e60-675b-4e51-ecdb-8c98b715896d"
      },
      "execution_count": 11,
      "outputs": [
        {
          "output_type": "stream",
          "name": "stdout",
          "text": [
            "relu - adam \n",
            "Epoch 1/5\n",
            "938/938 [==============================] - 8s 5ms/step - loss: 0.4149 - accuracy: 0.8740 - val_loss: 0.1609 - val_accuracy: 0.9531\n",
            "Epoch 2/5\n",
            "938/938 [==============================] - 7s 8ms/step - loss: 0.1925 - accuracy: 0.9433 - val_loss: 0.1131 - val_accuracy: 0.9657\n",
            "Epoch 3/5\n",
            "938/938 [==============================] - 4s 5ms/step - loss: 0.1505 - accuracy: 0.9564 - val_loss: 0.0969 - val_accuracy: 0.9703\n",
            "Epoch 4/5\n",
            "938/938 [==============================] - 7s 7ms/step - loss: 0.1278 - accuracy: 0.9618 - val_loss: 0.0892 - val_accuracy: 0.9716\n",
            "Epoch 5/5\n",
            "938/938 [==============================] - 4s 4ms/step - loss: 0.1103 - accuracy: 0.9668 - val_loss: 0.0823 - val_accuracy: 0.9743\n",
            "relu - sgd \n"
          ]
        },
        {
          "output_type": "stream",
          "name": "stderr",
          "text": [
            "<ipython-input-11-415a7874c3fd>:26: FutureWarning: The frame.append method is deprecated and will be removed from pandas in a future version. Use pandas.concat instead.\n",
            "  results_df = results_df.append({'Activation': activation, 'Optimizer': optimizer, 'Accuracy': history.history['val_accuracy'][-1]}, ignore_index=True)\n"
          ]
        },
        {
          "output_type": "stream",
          "name": "stdout",
          "text": [
            "Epoch 1/5\n",
            "938/938 [==============================] - 5s 4ms/step - loss: 1.1758 - accuracy: 0.6233 - val_loss: 0.4875 - val_accuracy: 0.8766\n",
            "Epoch 2/5\n",
            "938/938 [==============================] - 5s 5ms/step - loss: 0.5785 - accuracy: 0.8251 - val_loss: 0.3442 - val_accuracy: 0.9056\n",
            "Epoch 3/5\n",
            "938/938 [==============================] - 4s 4ms/step - loss: 0.4609 - accuracy: 0.8627 - val_loss: 0.2898 - val_accuracy: 0.9175\n",
            "Epoch 4/5\n",
            "938/938 [==============================] - 4s 4ms/step - loss: 0.4007 - accuracy: 0.8819 - val_loss: 0.2592 - val_accuracy: 0.9255\n",
            "Epoch 5/5\n",
            "938/938 [==============================] - 4s 4ms/step - loss: 0.3605 - accuracy: 0.8939 - val_loss: 0.2334 - val_accuracy: 0.9321\n",
            "relu - rmsprop \n"
          ]
        },
        {
          "output_type": "stream",
          "name": "stderr",
          "text": [
            "<ipython-input-11-415a7874c3fd>:26: FutureWarning: The frame.append method is deprecated and will be removed from pandas in a future version. Use pandas.concat instead.\n",
            "  results_df = results_df.append({'Activation': activation, 'Optimizer': optimizer, 'Accuracy': history.history['val_accuracy'][-1]}, ignore_index=True)\n"
          ]
        },
        {
          "output_type": "stream",
          "name": "stdout",
          "text": [
            "Epoch 1/5\n",
            "938/938 [==============================] - 5s 4ms/step - loss: 0.3990 - accuracy: 0.8811 - val_loss: 0.1669 - val_accuracy: 0.9478\n",
            "Epoch 2/5\n",
            "938/938 [==============================] - 4s 5ms/step - loss: 0.1946 - accuracy: 0.9431 - val_loss: 0.1280 - val_accuracy: 0.9624\n",
            "Epoch 3/5\n",
            "938/938 [==============================] - 4s 4ms/step - loss: 0.1560 - accuracy: 0.9553 - val_loss: 0.1021 - val_accuracy: 0.9701\n",
            "Epoch 4/5\n",
            "938/938 [==============================] - 4s 4ms/step - loss: 0.1316 - accuracy: 0.9613 - val_loss: 0.0986 - val_accuracy: 0.9719\n",
            "Epoch 5/5\n",
            "938/938 [==============================] - 4s 5ms/step - loss: 0.1208 - accuracy: 0.9648 - val_loss: 0.0898 - val_accuracy: 0.9763\n",
            "relu - adagrad \n"
          ]
        },
        {
          "output_type": "stream",
          "name": "stderr",
          "text": [
            "<ipython-input-11-415a7874c3fd>:26: FutureWarning: The frame.append method is deprecated and will be removed from pandas in a future version. Use pandas.concat instead.\n",
            "  results_df = results_df.append({'Activation': activation, 'Optimizer': optimizer, 'Accuracy': history.history['val_accuracy'][-1]}, ignore_index=True)\n"
          ]
        },
        {
          "output_type": "stream",
          "name": "stdout",
          "text": [
            "Epoch 1/5\n",
            "938/938 [==============================] - 5s 4ms/step - loss: 1.9325 - accuracy: 0.3692 - val_loss: 1.3506 - val_accuracy: 0.7114\n",
            "Epoch 2/5\n",
            "938/938 [==============================] - 4s 4ms/step - loss: 1.2577 - accuracy: 0.6269 - val_loss: 0.8349 - val_accuracy: 0.8151\n",
            "Epoch 3/5\n",
            "938/938 [==============================] - 4s 5ms/step - loss: 0.9596 - accuracy: 0.7128 - val_loss: 0.6438 - val_accuracy: 0.8461\n",
            "Epoch 4/5\n",
            "938/938 [==============================] - 4s 4ms/step - loss: 0.8213 - accuracy: 0.7517 - val_loss: 0.5497 - val_accuracy: 0.8649\n",
            "Epoch 5/5\n",
            "938/938 [==============================] - 4s 4ms/step - loss: 0.7329 - accuracy: 0.7788 - val_loss: 0.4913 - val_accuracy: 0.8780\n",
            "relu - adadelta \n"
          ]
        },
        {
          "output_type": "stream",
          "name": "stderr",
          "text": [
            "<ipython-input-11-415a7874c3fd>:26: FutureWarning: The frame.append method is deprecated and will be removed from pandas in a future version. Use pandas.concat instead.\n",
            "  results_df = results_df.append({'Activation': activation, 'Optimizer': optimizer, 'Accuracy': history.history['val_accuracy'][-1]}, ignore_index=True)\n"
          ]
        },
        {
          "output_type": "stream",
          "name": "stdout",
          "text": [
            "Epoch 1/5\n",
            "938/938 [==============================] - 6s 5ms/step - loss: 2.3425 - accuracy: 0.1215 - val_loss: 2.2759 - val_accuracy: 0.1718\n",
            "Epoch 2/5\n",
            "938/938 [==============================] - 4s 4ms/step - loss: 2.2829 - accuracy: 0.1552 - val_loss: 2.2161 - val_accuracy: 0.2302\n",
            "Epoch 3/5\n",
            "938/938 [==============================] - 4s 4ms/step - loss: 2.2289 - accuracy: 0.1907 - val_loss: 2.1606 - val_accuracy: 0.2989\n",
            "Epoch 4/5\n",
            "938/938 [==============================] - 5s 5ms/step - loss: 2.1798 - accuracy: 0.2287 - val_loss: 2.1082 - val_accuracy: 0.3551\n",
            "Epoch 5/5\n",
            "938/938 [==============================] - 4s 4ms/step - loss: 2.1329 - accuracy: 0.2596 - val_loss: 2.0574 - val_accuracy: 0.3978\n",
            "relu - adamax \n"
          ]
        },
        {
          "output_type": "stream",
          "name": "stderr",
          "text": [
            "<ipython-input-11-415a7874c3fd>:26: FutureWarning: The frame.append method is deprecated and will be removed from pandas in a future version. Use pandas.concat instead.\n",
            "  results_df = results_df.append({'Activation': activation, 'Optimizer': optimizer, 'Accuracy': history.history['val_accuracy'][-1]}, ignore_index=True)\n"
          ]
        },
        {
          "output_type": "stream",
          "name": "stdout",
          "text": [
            "Epoch 1/5\n",
            "938/938 [==============================] - 6s 5ms/step - loss: 0.6083 - accuracy: 0.8178 - val_loss: 0.2437 - val_accuracy: 0.9301\n",
            "Epoch 2/5\n",
            "938/938 [==============================] - 4s 4ms/step - loss: 0.2968 - accuracy: 0.9129 - val_loss: 0.1770 - val_accuracy: 0.9466\n",
            "Epoch 3/5\n",
            "938/938 [==============================] - 4s 4ms/step - loss: 0.2320 - accuracy: 0.9325 - val_loss: 0.1500 - val_accuracy: 0.9530\n",
            "Epoch 4/5\n",
            "938/938 [==============================] - 4s 4ms/step - loss: 0.2028 - accuracy: 0.9408 - val_loss: 0.1316 - val_accuracy: 0.9591\n",
            "Epoch 5/5\n",
            "938/938 [==============================] - 4s 4ms/step - loss: 0.1793 - accuracy: 0.9477 - val_loss: 0.1175 - val_accuracy: 0.9632\n",
            "relu - nadam \n"
          ]
        },
        {
          "output_type": "stream",
          "name": "stderr",
          "text": [
            "<ipython-input-11-415a7874c3fd>:26: FutureWarning: The frame.append method is deprecated and will be removed from pandas in a future version. Use pandas.concat instead.\n",
            "  results_df = results_df.append({'Activation': activation, 'Optimizer': optimizer, 'Accuracy': history.history['val_accuracy'][-1]}, ignore_index=True)\n"
          ]
        },
        {
          "output_type": "stream",
          "name": "stdout",
          "text": [
            "Epoch 1/5\n",
            "938/938 [==============================] - 7s 5ms/step - loss: 0.4040 - accuracy: 0.8779 - val_loss: 0.1533 - val_accuracy: 0.9540\n",
            "Epoch 2/5\n",
            "938/938 [==============================] - 5s 5ms/step - loss: 0.1889 - accuracy: 0.9448 - val_loss: 0.1105 - val_accuracy: 0.9663\n",
            "Epoch 3/5\n",
            "938/938 [==============================] - 4s 4ms/step - loss: 0.1473 - accuracy: 0.9561 - val_loss: 0.0991 - val_accuracy: 0.9699\n",
            "Epoch 4/5\n",
            "938/938 [==============================] - 5s 5ms/step - loss: 0.1248 - accuracy: 0.9633 - val_loss: 0.0856 - val_accuracy: 0.9740\n",
            "Epoch 5/5\n",
            "938/938 [==============================] - 5s 5ms/step - loss: 0.1089 - accuracy: 0.9673 - val_loss: 0.0805 - val_accuracy: 0.9763\n"
          ]
        },
        {
          "output_type": "stream",
          "name": "stderr",
          "text": [
            "<ipython-input-11-415a7874c3fd>:26: FutureWarning: The frame.append method is deprecated and will be removed from pandas in a future version. Use pandas.concat instead.\n",
            "  results_df = results_df.append({'Activation': activation, 'Optimizer': optimizer, 'Accuracy': history.history['val_accuracy'][-1]}, ignore_index=True)\n"
          ]
        },
        {
          "output_type": "stream",
          "name": "stdout",
          "text": [
            "relu - ftrl \n",
            "Epoch 1/5\n",
            "938/938 [==============================] - 6s 5ms/step - loss: 2.3025 - accuracy: 0.1120 - val_loss: 2.3023 - val_accuracy: 0.1135\n",
            "Epoch 2/5\n",
            "938/938 [==============================] - 4s 4ms/step - loss: 2.3022 - accuracy: 0.1124 - val_loss: 2.3021 - val_accuracy: 0.1135\n",
            "Epoch 3/5\n",
            "938/938 [==============================] - 4s 4ms/step - loss: 2.3021 - accuracy: 0.1124 - val_loss: 2.3020 - val_accuracy: 0.1135\n",
            "Epoch 4/5\n",
            "938/938 [==============================] - 4s 4ms/step - loss: 2.3020 - accuracy: 0.1124 - val_loss: 2.3020 - val_accuracy: 0.1135\n",
            "Epoch 5/5\n",
            "938/938 [==============================] - 4s 4ms/step - loss: 2.3020 - accuracy: 0.1124 - val_loss: 2.3019 - val_accuracy: 0.1135\n"
          ]
        },
        {
          "output_type": "stream",
          "name": "stderr",
          "text": [
            "<ipython-input-11-415a7874c3fd>:26: FutureWarning: The frame.append method is deprecated and will be removed from pandas in a future version. Use pandas.concat instead.\n",
            "  results_df = results_df.append({'Activation': activation, 'Optimizer': optimizer, 'Accuracy': history.history['val_accuracy'][-1]}, ignore_index=True)\n"
          ]
        },
        {
          "output_type": "stream",
          "name": "stdout",
          "text": [
            "sigmoid - adam \n",
            "Epoch 1/5\n",
            "938/938 [==============================] - 5s 5ms/step - loss: 0.7701 - accuracy: 0.7798 - val_loss: 0.2819 - val_accuracy: 0.9196\n",
            "Epoch 2/5\n",
            "938/938 [==============================] - 4s 5ms/step - loss: 0.3185 - accuracy: 0.9089 - val_loss: 0.2081 - val_accuracy: 0.9363\n",
            "Epoch 3/5\n",
            "938/938 [==============================] - 4s 4ms/step - loss: 0.2501 - accuracy: 0.9272 - val_loss: 0.1679 - val_accuracy: 0.9482\n",
            "Epoch 4/5\n",
            "938/938 [==============================] - 5s 6ms/step - loss: 0.2084 - accuracy: 0.9397 - val_loss: 0.1439 - val_accuracy: 0.9551\n",
            "Epoch 5/5\n",
            "938/938 [==============================] - 4s 4ms/step - loss: 0.1798 - accuracy: 0.9475 - val_loss: 0.1274 - val_accuracy: 0.9612\n"
          ]
        },
        {
          "output_type": "stream",
          "name": "stderr",
          "text": [
            "<ipython-input-11-415a7874c3fd>:26: FutureWarning: The frame.append method is deprecated and will be removed from pandas in a future version. Use pandas.concat instead.\n",
            "  results_df = results_df.append({'Activation': activation, 'Optimizer': optimizer, 'Accuracy': history.history['val_accuracy'][-1]}, ignore_index=True)\n"
          ]
        },
        {
          "output_type": "stream",
          "name": "stdout",
          "text": [
            "sigmoid - sgd \n",
            "Epoch 1/5\n",
            "938/938 [==============================] - 5s 5ms/step - loss: 2.3279 - accuracy: 0.1253 - val_loss: 2.2009 - val_accuracy: 0.5669\n",
            "Epoch 2/5\n",
            "938/938 [==============================] - 4s 4ms/step - loss: 2.1893 - accuracy: 0.2202 - val_loss: 2.0486 - val_accuracy: 0.5689\n",
            "Epoch 3/5\n",
            "938/938 [==============================] - 4s 4ms/step - loss: 2.0004 - accuracy: 0.3429 - val_loss: 1.7868 - val_accuracy: 0.5776\n",
            "Epoch 4/5\n",
            "938/938 [==============================] - 4s 4ms/step - loss: 1.7350 - accuracy: 0.4481 - val_loss: 1.4721 - val_accuracy: 0.6444\n",
            "Epoch 5/5\n",
            "938/938 [==============================] - 4s 4ms/step - loss: 1.4740 - accuracy: 0.5245 - val_loss: 1.2179 - val_accuracy: 0.7080\n",
            "sigmoid - rmsprop \n"
          ]
        },
        {
          "output_type": "stream",
          "name": "stderr",
          "text": [
            "<ipython-input-11-415a7874c3fd>:26: FutureWarning: The frame.append method is deprecated and will be removed from pandas in a future version. Use pandas.concat instead.\n",
            "  results_df = results_df.append({'Activation': activation, 'Optimizer': optimizer, 'Accuracy': history.history['val_accuracy'][-1]}, ignore_index=True)\n"
          ]
        },
        {
          "output_type": "stream",
          "name": "stdout",
          "text": [
            "Epoch 1/5\n",
            "938/938 [==============================] - 5s 5ms/step - loss: 0.7513 - accuracy: 0.7854 - val_loss: 0.2871 - val_accuracy: 0.9172\n",
            "Epoch 2/5\n",
            "938/938 [==============================] - 4s 4ms/step - loss: 0.3255 - accuracy: 0.9046 - val_loss: 0.2156 - val_accuracy: 0.9356\n",
            "Epoch 3/5\n",
            "938/938 [==============================] - 4s 4ms/step - loss: 0.2614 - accuracy: 0.9241 - val_loss: 0.1827 - val_accuracy: 0.9451\n",
            "Epoch 4/5\n",
            "938/938 [==============================] - 4s 4ms/step - loss: 0.2215 - accuracy: 0.9343 - val_loss: 0.1501 - val_accuracy: 0.9545\n",
            "Epoch 5/5\n",
            "938/938 [==============================] - 4s 4ms/step - loss: 0.1929 - accuracy: 0.9438 - val_loss: 0.1333 - val_accuracy: 0.9586\n"
          ]
        },
        {
          "output_type": "stream",
          "name": "stderr",
          "text": [
            "<ipython-input-11-415a7874c3fd>:26: FutureWarning: The frame.append method is deprecated and will be removed from pandas in a future version. Use pandas.concat instead.\n",
            "  results_df = results_df.append({'Activation': activation, 'Optimizer': optimizer, 'Accuracy': history.history['val_accuracy'][-1]}, ignore_index=True)\n"
          ]
        },
        {
          "output_type": "stream",
          "name": "stdout",
          "text": [
            "sigmoid - adagrad \n",
            "Epoch 1/5\n",
            "938/938 [==============================] - 4s 4ms/step - loss: 2.3664 - accuracy: 0.1112 - val_loss: 2.2719 - val_accuracy: 0.1264\n",
            "Epoch 2/5\n",
            "938/938 [==============================] - 5s 5ms/step - loss: 2.3137 - accuracy: 0.1241 - val_loss: 2.2467 - val_accuracy: 0.3296\n",
            "Epoch 3/5\n",
            "938/938 [==============================] - 4s 4ms/step - loss: 2.2875 - accuracy: 0.1406 - val_loss: 2.2213 - val_accuracy: 0.4045\n",
            "Epoch 4/5\n",
            "938/938 [==============================] - 4s 4ms/step - loss: 2.2583 - accuracy: 0.1604 - val_loss: 2.1953 - val_accuracy: 0.4903\n",
            "Epoch 5/5\n",
            "938/938 [==============================] - 4s 4ms/step - loss: 2.2339 - accuracy: 0.1839 - val_loss: 2.1677 - val_accuracy: 0.5275\n",
            "sigmoid - adadelta \n"
          ]
        },
        {
          "output_type": "stream",
          "name": "stderr",
          "text": [
            "<ipython-input-11-415a7874c3fd>:26: FutureWarning: The frame.append method is deprecated and will be removed from pandas in a future version. Use pandas.concat instead.\n",
            "  results_df = results_df.append({'Activation': activation, 'Optimizer': optimizer, 'Accuracy': history.history['val_accuracy'][-1]}, ignore_index=True)\n"
          ]
        },
        {
          "output_type": "stream",
          "name": "stdout",
          "text": [
            "Epoch 1/5\n",
            "938/938 [==============================] - 5s 4ms/step - loss: 2.6190 - accuracy: 0.1097 - val_loss: 2.5185 - val_accuracy: 0.1810\n",
            "Epoch 2/5\n",
            "938/938 [==============================] - 4s 4ms/step - loss: 2.5483 - accuracy: 0.1136 - val_loss: 2.4535 - val_accuracy: 0.1692\n",
            "Epoch 3/5\n",
            "938/938 [==============================] - 4s 5ms/step - loss: 2.4887 - accuracy: 0.1145 - val_loss: 2.4036 - val_accuracy: 0.1584\n",
            "Epoch 4/5\n",
            "938/938 [==============================] - 4s 4ms/step - loss: 2.4469 - accuracy: 0.1199 - val_loss: 2.3653 - val_accuracy: 0.1544\n",
            "Epoch 5/5\n",
            "938/938 [==============================] - 4s 4ms/step - loss: 2.4149 - accuracy: 0.1192 - val_loss: 2.3357 - val_accuracy: 0.1519\n",
            "sigmoid - adamax \n"
          ]
        },
        {
          "output_type": "stream",
          "name": "stderr",
          "text": [
            "<ipython-input-11-415a7874c3fd>:26: FutureWarning: The frame.append method is deprecated and will be removed from pandas in a future version. Use pandas.concat instead.\n",
            "  results_df = results_df.append({'Activation': activation, 'Optimizer': optimizer, 'Accuracy': history.history['val_accuracy'][-1]}, ignore_index=True)\n"
          ]
        },
        {
          "output_type": "stream",
          "name": "stdout",
          "text": [
            "Epoch 1/5\n",
            "938/938 [==============================] - 5s 5ms/step - loss: 1.1452 - accuracy: 0.6762 - val_loss: 0.4893 - val_accuracy: 0.8901\n",
            "Epoch 2/5\n",
            "938/938 [==============================] - 4s 4ms/step - loss: 0.4947 - accuracy: 0.8633 - val_loss: 0.3229 - val_accuracy: 0.9144\n",
            "Epoch 3/5\n",
            "938/938 [==============================] - 4s 4ms/step - loss: 0.3886 - accuracy: 0.8905 - val_loss: 0.2738 - val_accuracy: 0.9225\n",
            "Epoch 4/5\n",
            "938/938 [==============================] - 5s 5ms/step - loss: 0.3430 - accuracy: 0.9013 - val_loss: 0.2471 - val_accuracy: 0.9282\n",
            "Epoch 5/5\n",
            "938/938 [==============================] - 4s 4ms/step - loss: 0.3105 - accuracy: 0.9097 - val_loss: 0.2274 - val_accuracy: 0.9323\n"
          ]
        },
        {
          "output_type": "stream",
          "name": "stderr",
          "text": [
            "<ipython-input-11-415a7874c3fd>:26: FutureWarning: The frame.append method is deprecated and will be removed from pandas in a future version. Use pandas.concat instead.\n",
            "  results_df = results_df.append({'Activation': activation, 'Optimizer': optimizer, 'Accuracy': history.history['val_accuracy'][-1]}, ignore_index=True)\n"
          ]
        },
        {
          "output_type": "stream",
          "name": "stdout",
          "text": [
            "sigmoid - nadam \n",
            "Epoch 1/5\n",
            "938/938 [==============================] - 6s 5ms/step - loss: 0.7598 - accuracy: 0.7871 - val_loss: 0.2803 - val_accuracy: 0.9181\n",
            "Epoch 2/5\n",
            "938/938 [==============================] - 5s 5ms/step - loss: 0.3120 - accuracy: 0.9113 - val_loss: 0.2051 - val_accuracy: 0.9366\n",
            "Epoch 3/5\n",
            "938/938 [==============================] - 4s 4ms/step - loss: 0.2414 - accuracy: 0.9302 - val_loss: 0.1634 - val_accuracy: 0.9502\n",
            "Epoch 4/5\n",
            "938/938 [==============================] - 4s 4ms/step - loss: 0.2018 - accuracy: 0.9417 - val_loss: 0.1412 - val_accuracy: 0.9563\n",
            "Epoch 5/5\n",
            "938/938 [==============================] - 5s 5ms/step - loss: 0.1752 - accuracy: 0.9489 - val_loss: 0.1206 - val_accuracy: 0.9639\n"
          ]
        },
        {
          "output_type": "stream",
          "name": "stderr",
          "text": [
            "<ipython-input-11-415a7874c3fd>:26: FutureWarning: The frame.append method is deprecated and will be removed from pandas in a future version. Use pandas.concat instead.\n",
            "  results_df = results_df.append({'Activation': activation, 'Optimizer': optimizer, 'Accuracy': history.history['val_accuracy'][-1]}, ignore_index=True)\n"
          ]
        },
        {
          "output_type": "stream",
          "name": "stdout",
          "text": [
            "sigmoid - ftrl \n",
            "Epoch 1/5\n",
            "938/938 [==============================] - 6s 5ms/step - loss: 2.3020 - accuracy: 0.1103 - val_loss: 2.3010 - val_accuracy: 0.1135\n",
            "Epoch 2/5\n",
            "938/938 [==============================] - 4s 4ms/step - loss: 2.3013 - accuracy: 0.1122 - val_loss: 2.3010 - val_accuracy: 0.1135\n",
            "Epoch 3/5\n",
            "938/938 [==============================] - 4s 4ms/step - loss: 2.3013 - accuracy: 0.1125 - val_loss: 2.3010 - val_accuracy: 0.1135\n",
            "Epoch 4/5\n",
            "938/938 [==============================] - 4s 5ms/step - loss: 2.3013 - accuracy: 0.1123 - val_loss: 2.3010 - val_accuracy: 0.1135\n",
            "Epoch 5/5\n",
            "938/938 [==============================] - 4s 5ms/step - loss: 2.3013 - accuracy: 0.1124 - val_loss: 2.3010 - val_accuracy: 0.1135\n",
            "tanh - adam \n"
          ]
        },
        {
          "output_type": "stream",
          "name": "stderr",
          "text": [
            "<ipython-input-11-415a7874c3fd>:26: FutureWarning: The frame.append method is deprecated and will be removed from pandas in a future version. Use pandas.concat instead.\n",
            "  results_df = results_df.append({'Activation': activation, 'Optimizer': optimizer, 'Accuracy': history.history['val_accuracy'][-1]}, ignore_index=True)\n"
          ]
        },
        {
          "output_type": "stream",
          "name": "stdout",
          "text": [
            "Epoch 1/5\n",
            "938/938 [==============================] - 6s 5ms/step - loss: 0.3929 - accuracy: 0.8838 - val_loss: 0.2064 - val_accuracy: 0.9369\n",
            "Epoch 2/5\n",
            "938/938 [==============================] - 4s 4ms/step - loss: 0.2353 - accuracy: 0.9296 - val_loss: 0.1584 - val_accuracy: 0.9505\n",
            "Epoch 3/5\n",
            "938/938 [==============================] - 4s 4ms/step - loss: 0.1940 - accuracy: 0.9407 - val_loss: 0.1326 - val_accuracy: 0.9598\n",
            "Epoch 4/5\n",
            "938/938 [==============================] - 4s 4ms/step - loss: 0.1697 - accuracy: 0.9483 - val_loss: 0.1243 - val_accuracy: 0.9628\n",
            "Epoch 5/5\n",
            "938/938 [==============================] - 4s 5ms/step - loss: 0.1521 - accuracy: 0.9533 - val_loss: 0.1066 - val_accuracy: 0.9665\n"
          ]
        },
        {
          "output_type": "stream",
          "name": "stderr",
          "text": [
            "<ipython-input-11-415a7874c3fd>:26: FutureWarning: The frame.append method is deprecated and will be removed from pandas in a future version. Use pandas.concat instead.\n",
            "  results_df = results_df.append({'Activation': activation, 'Optimizer': optimizer, 'Accuracy': history.history['val_accuracy'][-1]}, ignore_index=True)\n"
          ]
        },
        {
          "output_type": "stream",
          "name": "stdout",
          "text": [
            "tanh - sgd \n",
            "Epoch 1/5\n",
            "938/938 [==============================] - 5s 4ms/step - loss: 0.8589 - accuracy: 0.7617 - val_loss: 0.4403 - val_accuracy: 0.8840\n",
            "Epoch 2/5\n",
            "938/938 [==============================] - 4s 4ms/step - loss: 0.4698 - accuracy: 0.8684 - val_loss: 0.3481 - val_accuracy: 0.9010\n",
            "Epoch 3/5\n",
            "938/938 [==============================] - 4s 5ms/step - loss: 0.4062 - accuracy: 0.8825 - val_loss: 0.3139 - val_accuracy: 0.9092\n",
            "Epoch 4/5\n",
            "938/938 [==============================] - 4s 4ms/step - loss: 0.3728 - accuracy: 0.8916 - val_loss: 0.2928 - val_accuracy: 0.9145\n",
            "Epoch 5/5\n",
            "938/938 [==============================] - 4s 4ms/step - loss: 0.3533 - accuracy: 0.8975 - val_loss: 0.2786 - val_accuracy: 0.9192\n"
          ]
        },
        {
          "output_type": "stream",
          "name": "stderr",
          "text": [
            "<ipython-input-11-415a7874c3fd>:26: FutureWarning: The frame.append method is deprecated and will be removed from pandas in a future version. Use pandas.concat instead.\n",
            "  results_df = results_df.append({'Activation': activation, 'Optimizer': optimizer, 'Accuracy': history.history['val_accuracy'][-1]}, ignore_index=True)\n"
          ]
        },
        {
          "output_type": "stream",
          "name": "stdout",
          "text": [
            "tanh - rmsprop \n",
            "Epoch 1/5\n",
            "938/938 [==============================] - 6s 5ms/step - loss: 0.3843 - accuracy: 0.8873 - val_loss: 0.2181 - val_accuracy: 0.9332\n",
            "Epoch 2/5\n",
            "938/938 [==============================] - 4s 4ms/step - loss: 0.2419 - accuracy: 0.9282 - val_loss: 0.1755 - val_accuracy: 0.9453\n",
            "Epoch 3/5\n",
            "938/938 [==============================] - 4s 4ms/step - loss: 0.1984 - accuracy: 0.9414 - val_loss: 0.1473 - val_accuracy: 0.9557\n",
            "Epoch 4/5\n",
            "938/938 [==============================] - 4s 4ms/step - loss: 0.1733 - accuracy: 0.9485 - val_loss: 0.1262 - val_accuracy: 0.9605\n",
            "Epoch 5/5\n",
            "938/938 [==============================] - 4s 4ms/step - loss: 0.1539 - accuracy: 0.9545 - val_loss: 0.1126 - val_accuracy: 0.9656\n"
          ]
        },
        {
          "output_type": "stream",
          "name": "stderr",
          "text": [
            "<ipython-input-11-415a7874c3fd>:26: FutureWarning: The frame.append method is deprecated and will be removed from pandas in a future version. Use pandas.concat instead.\n",
            "  results_df = results_df.append({'Activation': activation, 'Optimizer': optimizer, 'Accuracy': history.history['val_accuracy'][-1]}, ignore_index=True)\n"
          ]
        },
        {
          "output_type": "stream",
          "name": "stdout",
          "text": [
            "tanh - adagrad \n",
            "Epoch 1/5\n",
            "938/938 [==============================] - 5s 5ms/step - loss: 1.3833 - accuracy: 0.6060 - val_loss: 0.8185 - val_accuracy: 0.8291\n",
            "Epoch 2/5\n",
            "938/938 [==============================] - 4s 5ms/step - loss: 0.8001 - accuracy: 0.7985 - val_loss: 0.6023 - val_accuracy: 0.8643\n",
            "Epoch 3/5\n",
            "938/938 [==============================] - 4s 4ms/step - loss: 0.6519 - accuracy: 0.8326 - val_loss: 0.5123 - val_accuracy: 0.8797\n",
            "Epoch 4/5\n",
            "938/938 [==============================] - 4s 4ms/step - loss: 0.5788 - accuracy: 0.8457 - val_loss: 0.4618 - val_accuracy: 0.8867\n",
            "Epoch 5/5\n",
            "938/938 [==============================] - 5s 5ms/step - loss: 0.5351 - accuracy: 0.8579 - val_loss: 0.4280 - val_accuracy: 0.8926\n",
            "tanh - adadelta \n"
          ]
        },
        {
          "output_type": "stream",
          "name": "stderr",
          "text": [
            "<ipython-input-11-415a7874c3fd>:26: FutureWarning: The frame.append method is deprecated and will be removed from pandas in a future version. Use pandas.concat instead.\n",
            "  results_df = results_df.append({'Activation': activation, 'Optimizer': optimizer, 'Accuracy': history.history['val_accuracy'][-1]}, ignore_index=True)\n"
          ]
        },
        {
          "output_type": "stream",
          "name": "stdout",
          "text": [
            "Epoch 1/5\n",
            "938/938 [==============================] - 5s 4ms/step - loss: 2.3951 - accuracy: 0.1138 - val_loss: 2.2304 - val_accuracy: 0.1618\n",
            "Epoch 2/5\n",
            "938/938 [==============================] - 4s 5ms/step - loss: 2.2461 - accuracy: 0.1728 - val_loss: 2.0818 - val_accuracy: 0.2877\n",
            "Epoch 3/5\n",
            "938/938 [==============================] - 4s 4ms/step - loss: 2.1122 - accuracy: 0.2432 - val_loss: 1.9480 - val_accuracy: 0.4110\n",
            "Epoch 4/5\n",
            "938/938 [==============================] - 4s 4ms/step - loss: 1.9900 - accuracy: 0.3200 - val_loss: 1.8255 - val_accuracy: 0.5107\n",
            "Epoch 5/5\n",
            "938/938 [==============================] - 4s 4ms/step - loss: 1.8734 - accuracy: 0.3937 - val_loss: 1.7135 - val_accuracy: 0.5796\n",
            "tanh - adamax \n"
          ]
        },
        {
          "output_type": "stream",
          "name": "stderr",
          "text": [
            "<ipython-input-11-415a7874c3fd>:26: FutureWarning: The frame.append method is deprecated and will be removed from pandas in a future version. Use pandas.concat instead.\n",
            "  results_df = results_df.append({'Activation': activation, 'Optimizer': optimizer, 'Accuracy': history.history['val_accuracy'][-1]}, ignore_index=True)\n"
          ]
        },
        {
          "output_type": "stream",
          "name": "stdout",
          "text": [
            "Epoch 1/5\n",
            "938/938 [==============================] - 5s 5ms/step - loss: 0.5028 - accuracy: 0.8553 - val_loss: 0.2817 - val_accuracy: 0.9167\n",
            "Epoch 2/5\n",
            "938/938 [==============================] - 4s 4ms/step - loss: 0.3148 - accuracy: 0.9084 - val_loss: 0.2402 - val_accuracy: 0.9292\n",
            "Epoch 3/5\n",
            "938/938 [==============================] - 4s 5ms/step - loss: 0.2749 - accuracy: 0.9194 - val_loss: 0.2092 - val_accuracy: 0.9373\n",
            "Epoch 4/5\n",
            "938/938 [==============================] - 4s 4ms/step - loss: 0.2507 - accuracy: 0.9266 - val_loss: 0.1895 - val_accuracy: 0.9434\n",
            "Epoch 5/5\n",
            "938/938 [==============================] - 4s 4ms/step - loss: 0.2290 - accuracy: 0.9336 - val_loss: 0.1743 - val_accuracy: 0.9470\n"
          ]
        },
        {
          "output_type": "stream",
          "name": "stderr",
          "text": [
            "<ipython-input-11-415a7874c3fd>:26: FutureWarning: The frame.append method is deprecated and will be removed from pandas in a future version. Use pandas.concat instead.\n",
            "  results_df = results_df.append({'Activation': activation, 'Optimizer': optimizer, 'Accuracy': history.history['val_accuracy'][-1]}, ignore_index=True)\n"
          ]
        },
        {
          "output_type": "stream",
          "name": "stdout",
          "text": [
            "tanh - nadam \n",
            "Epoch 1/5\n",
            "938/938 [==============================] - 6s 5ms/step - loss: 0.3943 - accuracy: 0.8845 - val_loss: 0.2112 - val_accuracy: 0.9373\n",
            "Epoch 2/5\n",
            "938/938 [==============================] - 4s 5ms/step - loss: 0.2421 - accuracy: 0.9286 - val_loss: 0.1644 - val_accuracy: 0.9500\n",
            "Epoch 3/5\n",
            "938/938 [==============================] - 5s 5ms/step - loss: 0.1983 - accuracy: 0.9412 - val_loss: 0.1381 - val_accuracy: 0.9577\n",
            "Epoch 4/5\n",
            "938/938 [==============================] - 5s 5ms/step - loss: 0.1715 - accuracy: 0.9478 - val_loss: 0.1190 - val_accuracy: 0.9628\n",
            "Epoch 5/5\n",
            "938/938 [==============================] - 4s 5ms/step - loss: 0.1539 - accuracy: 0.9543 - val_loss: 0.1132 - val_accuracy: 0.9652\n"
          ]
        },
        {
          "output_type": "stream",
          "name": "stderr",
          "text": [
            "<ipython-input-11-415a7874c3fd>:26: FutureWarning: The frame.append method is deprecated and will be removed from pandas in a future version. Use pandas.concat instead.\n",
            "  results_df = results_df.append({'Activation': activation, 'Optimizer': optimizer, 'Accuracy': history.history['val_accuracy'][-1]}, ignore_index=True)\n"
          ]
        },
        {
          "output_type": "stream",
          "name": "stdout",
          "text": [
            "tanh - ftrl \n",
            "Epoch 1/5\n",
            "938/938 [==============================] - 5s 4ms/step - loss: 2.3025 - accuracy: 0.1120 - val_loss: 2.3023 - val_accuracy: 0.1135\n",
            "Epoch 2/5\n",
            "938/938 [==============================] - 5s 5ms/step - loss: 2.3022 - accuracy: 0.1124 - val_loss: 2.3021 - val_accuracy: 0.1135\n",
            "Epoch 3/5\n",
            "938/938 [==============================] - 4s 4ms/step - loss: 2.3021 - accuracy: 0.1124 - val_loss: 2.3020 - val_accuracy: 0.1135\n",
            "Epoch 4/5\n",
            "938/938 [==============================] - 4s 4ms/step - loss: 2.3020 - accuracy: 0.1124 - val_loss: 2.3019 - val_accuracy: 0.1135\n",
            "Epoch 5/5\n",
            "938/938 [==============================] - 4s 5ms/step - loss: 2.3020 - accuracy: 0.1124 - val_loss: 2.3019 - val_accuracy: 0.1135\n"
          ]
        },
        {
          "output_type": "stream",
          "name": "stderr",
          "text": [
            "<ipython-input-11-415a7874c3fd>:26: FutureWarning: The frame.append method is deprecated and will be removed from pandas in a future version. Use pandas.concat instead.\n",
            "  results_df = results_df.append({'Activation': activation, 'Optimizer': optimizer, 'Accuracy': history.history['val_accuracy'][-1]}, ignore_index=True)\n"
          ]
        },
        {
          "output_type": "stream",
          "name": "stdout",
          "text": [
            "elu - adam \n",
            "Epoch 1/5\n",
            "938/938 [==============================] - 6s 5ms/step - loss: 0.3900 - accuracy: 0.8825 - val_loss: 0.1908 - val_accuracy: 0.9438\n",
            "Epoch 2/5\n",
            "938/938 [==============================] - 4s 4ms/step - loss: 0.2271 - accuracy: 0.9322 - val_loss: 0.1418 - val_accuracy: 0.9592\n",
            "Epoch 3/5\n",
            "938/938 [==============================] - 4s 4ms/step - loss: 0.1803 - accuracy: 0.9452 - val_loss: 0.1151 - val_accuracy: 0.9646\n",
            "Epoch 4/5\n",
            "938/938 [==============================] - 5s 5ms/step - loss: 0.1535 - accuracy: 0.9527 - val_loss: 0.1014 - val_accuracy: 0.9692\n",
            "Epoch 5/5\n",
            "938/938 [==============================] - 4s 4ms/step - loss: 0.1371 - accuracy: 0.9585 - val_loss: 0.0907 - val_accuracy: 0.9720\n",
            "elu - sgd \n"
          ]
        },
        {
          "output_type": "stream",
          "name": "stderr",
          "text": [
            "<ipython-input-11-415a7874c3fd>:26: FutureWarning: The frame.append method is deprecated and will be removed from pandas in a future version. Use pandas.concat instead.\n",
            "  results_df = results_df.append({'Activation': activation, 'Optimizer': optimizer, 'Accuracy': history.history['val_accuracy'][-1]}, ignore_index=True)\n"
          ]
        },
        {
          "output_type": "stream",
          "name": "stdout",
          "text": [
            "Epoch 1/5\n",
            "938/938 [==============================] - 5s 5ms/step - loss: 0.8358 - accuracy: 0.7577 - val_loss: 0.4092 - val_accuracy: 0.8923\n",
            "Epoch 2/5\n",
            "938/938 [==============================] - 4s 4ms/step - loss: 0.4614 - accuracy: 0.8660 - val_loss: 0.3324 - val_accuracy: 0.9063\n",
            "Epoch 3/5\n",
            "938/938 [==============================] - 4s 4ms/step - loss: 0.4015 - accuracy: 0.8810 - val_loss: 0.3041 - val_accuracy: 0.9123\n",
            "Epoch 4/5\n",
            "938/938 [==============================] - 4s 4ms/step - loss: 0.3697 - accuracy: 0.8917 - val_loss: 0.2853 - val_accuracy: 0.9184\n",
            "Epoch 5/5\n",
            "938/938 [==============================] - 4s 4ms/step - loss: 0.3514 - accuracy: 0.8956 - val_loss: 0.2705 - val_accuracy: 0.9226\n",
            "elu - rmsprop \n"
          ]
        },
        {
          "output_type": "stream",
          "name": "stderr",
          "text": [
            "<ipython-input-11-415a7874c3fd>:26: FutureWarning: The frame.append method is deprecated and will be removed from pandas in a future version. Use pandas.concat instead.\n",
            "  results_df = results_df.append({'Activation': activation, 'Optimizer': optimizer, 'Accuracy': history.history['val_accuracy'][-1]}, ignore_index=True)\n"
          ]
        },
        {
          "output_type": "stream",
          "name": "stdout",
          "text": [
            "Epoch 1/5\n",
            "938/938 [==============================] - 5s 4ms/step - loss: 0.3851 - accuracy: 0.8842 - val_loss: 0.2113 - val_accuracy: 0.9333\n",
            "Epoch 2/5\n",
            "938/938 [==============================] - 5s 5ms/step - loss: 0.2277 - accuracy: 0.9322 - val_loss: 0.1360 - val_accuracy: 0.9578\n",
            "Epoch 3/5\n",
            "938/938 [==============================] - 4s 4ms/step - loss: 0.1820 - accuracy: 0.9458 - val_loss: 0.1148 - val_accuracy: 0.9647\n",
            "Epoch 4/5\n",
            "938/938 [==============================] - 4s 4ms/step - loss: 0.1587 - accuracy: 0.9528 - val_loss: 0.1092 - val_accuracy: 0.9655\n",
            "Epoch 5/5\n",
            "938/938 [==============================] - 5s 5ms/step - loss: 0.1406 - accuracy: 0.9583 - val_loss: 0.0936 - val_accuracy: 0.9695\n",
            "elu - adagrad \n"
          ]
        },
        {
          "output_type": "stream",
          "name": "stderr",
          "text": [
            "<ipython-input-11-415a7874c3fd>:26: FutureWarning: The frame.append method is deprecated and will be removed from pandas in a future version. Use pandas.concat instead.\n",
            "  results_df = results_df.append({'Activation': activation, 'Optimizer': optimizer, 'Accuracy': history.history['val_accuracy'][-1]}, ignore_index=True)\n"
          ]
        },
        {
          "output_type": "stream",
          "name": "stdout",
          "text": [
            "Epoch 1/5\n",
            "938/938 [==============================] - 5s 4ms/step - loss: 1.3516 - accuracy: 0.6034 - val_loss: 0.7928 - val_accuracy: 0.8287\n",
            "Epoch 2/5\n",
            "938/938 [==============================] - 4s 4ms/step - loss: 0.7882 - accuracy: 0.7826 - val_loss: 0.5743 - val_accuracy: 0.8658\n",
            "Epoch 3/5\n",
            "938/938 [==============================] - 4s 5ms/step - loss: 0.6453 - accuracy: 0.8162 - val_loss: 0.4871 - val_accuracy: 0.8789\n",
            "Epoch 4/5\n",
            "938/938 [==============================] - 4s 4ms/step - loss: 0.5762 - accuracy: 0.8340 - val_loss: 0.4399 - val_accuracy: 0.8867\n",
            "Epoch 5/5\n",
            "938/938 [==============================] - 4s 4ms/step - loss: 0.5308 - accuracy: 0.8464 - val_loss: 0.4092 - val_accuracy: 0.8908\n"
          ]
        },
        {
          "output_type": "stream",
          "name": "stderr",
          "text": [
            "<ipython-input-11-415a7874c3fd>:26: FutureWarning: The frame.append method is deprecated and will be removed from pandas in a future version. Use pandas.concat instead.\n",
            "  results_df = results_df.append({'Activation': activation, 'Optimizer': optimizer, 'Accuracy': history.history['val_accuracy'][-1]}, ignore_index=True)\n"
          ]
        },
        {
          "output_type": "stream",
          "name": "stdout",
          "text": [
            "elu - adadelta \n",
            "Epoch 1/5\n",
            "938/938 [==============================] - 6s 5ms/step - loss: 2.3509 - accuracy: 0.1430 - val_loss: 2.1823 - val_accuracy: 0.2299\n",
            "Epoch 2/5\n",
            "938/938 [==============================] - 4s 4ms/step - loss: 2.1899 - accuracy: 0.2143 - val_loss: 2.0290 - val_accuracy: 0.3505\n",
            "Epoch 3/5\n",
            "938/938 [==============================] - 4s 4ms/step - loss: 2.0536 - accuracy: 0.2833 - val_loss: 1.8947 - val_accuracy: 0.4407\n",
            "Epoch 4/5\n",
            "938/938 [==============================] - 5s 5ms/step - loss: 1.9300 - accuracy: 0.3520 - val_loss: 1.7739 - val_accuracy: 0.5066\n",
            "Epoch 5/5\n",
            "938/938 [==============================] - 4s 4ms/step - loss: 1.8174 - accuracy: 0.4117 - val_loss: 1.6643 - val_accuracy: 0.5649\n",
            "elu - adamax \n"
          ]
        },
        {
          "output_type": "stream",
          "name": "stderr",
          "text": [
            "<ipython-input-11-415a7874c3fd>:26: FutureWarning: The frame.append method is deprecated and will be removed from pandas in a future version. Use pandas.concat instead.\n",
            "  results_df = results_df.append({'Activation': activation, 'Optimizer': optimizer, 'Accuracy': history.history['val_accuracy'][-1]}, ignore_index=True)\n"
          ]
        },
        {
          "output_type": "stream",
          "name": "stdout",
          "text": [
            "Epoch 1/5\n",
            "938/938 [==============================] - 6s 5ms/step - loss: 0.4986 - accuracy: 0.8510 - val_loss: 0.2658 - val_accuracy: 0.9230\n",
            "Epoch 2/5\n",
            "938/938 [==============================] - 4s 4ms/step - loss: 0.3137 - accuracy: 0.9069 - val_loss: 0.2167 - val_accuracy: 0.9340\n",
            "Epoch 3/5\n",
            "938/938 [==============================] - 4s 4ms/step - loss: 0.2636 - accuracy: 0.9225 - val_loss: 0.1870 - val_accuracy: 0.9421\n",
            "Epoch 4/5\n",
            "938/938 [==============================] - 4s 5ms/step - loss: 0.2363 - accuracy: 0.9294 - val_loss: 0.1679 - val_accuracy: 0.9483\n",
            "Epoch 5/5\n",
            "938/938 [==============================] - 4s 4ms/step - loss: 0.2134 - accuracy: 0.9358 - val_loss: 0.1489 - val_accuracy: 0.9541\n",
            "elu - nadam \n"
          ]
        },
        {
          "output_type": "stream",
          "name": "stderr",
          "text": [
            "<ipython-input-11-415a7874c3fd>:26: FutureWarning: The frame.append method is deprecated and will be removed from pandas in a future version. Use pandas.concat instead.\n",
            "  results_df = results_df.append({'Activation': activation, 'Optimizer': optimizer, 'Accuracy': history.history['val_accuracy'][-1]}, ignore_index=True)\n"
          ]
        },
        {
          "output_type": "stream",
          "name": "stdout",
          "text": [
            "Epoch 1/5\n",
            "938/938 [==============================] - 6s 5ms/step - loss: 0.3937 - accuracy: 0.8816 - val_loss: 0.1895 - val_accuracy: 0.9411\n",
            "Epoch 2/5\n",
            "938/938 [==============================] - 5s 5ms/step - loss: 0.2236 - accuracy: 0.9320 - val_loss: 0.1466 - val_accuracy: 0.9547\n",
            "Epoch 3/5\n",
            "938/938 [==============================] - 4s 4ms/step - loss: 0.1808 - accuracy: 0.9453 - val_loss: 0.1226 - val_accuracy: 0.9623\n",
            "Epoch 4/5\n",
            "938/938 [==============================] - 5s 5ms/step - loss: 0.1559 - accuracy: 0.9523 - val_loss: 0.1019 - val_accuracy: 0.9666\n",
            "Epoch 5/5\n",
            "938/938 [==============================] - 5s 5ms/step - loss: 0.1349 - accuracy: 0.9584 - val_loss: 0.0984 - val_accuracy: 0.9692\n"
          ]
        },
        {
          "output_type": "stream",
          "name": "stderr",
          "text": [
            "<ipython-input-11-415a7874c3fd>:26: FutureWarning: The frame.append method is deprecated and will be removed from pandas in a future version. Use pandas.concat instead.\n",
            "  results_df = results_df.append({'Activation': activation, 'Optimizer': optimizer, 'Accuracy': history.history['val_accuracy'][-1]}, ignore_index=True)\n"
          ]
        },
        {
          "output_type": "stream",
          "name": "stdout",
          "text": [
            "elu - ftrl \n",
            "Epoch 1/5\n",
            "938/938 [==============================] - 5s 4ms/step - loss: 2.3027 - accuracy: 0.1123 - val_loss: 2.3023 - val_accuracy: 0.1135\n",
            "Epoch 2/5\n",
            "938/938 [==============================] - 4s 4ms/step - loss: 2.3022 - accuracy: 0.1124 - val_loss: 2.3021 - val_accuracy: 0.1135\n",
            "Epoch 3/5\n",
            "938/938 [==============================] - 4s 4ms/step - loss: 2.3021 - accuracy: 0.1124 - val_loss: 2.3020 - val_accuracy: 0.1135\n",
            "Epoch 4/5\n",
            "938/938 [==============================] - 4s 4ms/step - loss: 2.3020 - accuracy: 0.1124 - val_loss: 2.3019 - val_accuracy: 0.1135\n",
            "Epoch 5/5\n",
            "938/938 [==============================] - 4s 4ms/step - loss: 2.3020 - accuracy: 0.1124 - val_loss: 2.3019 - val_accuracy: 0.1135\n"
          ]
        },
        {
          "output_type": "stream",
          "name": "stderr",
          "text": [
            "<ipython-input-11-415a7874c3fd>:26: FutureWarning: The frame.append method is deprecated and will be removed from pandas in a future version. Use pandas.concat instead.\n",
            "  results_df = results_df.append({'Activation': activation, 'Optimizer': optimizer, 'Accuracy': history.history['val_accuracy'][-1]}, ignore_index=True)\n"
          ]
        },
        {
          "output_type": "stream",
          "name": "stdout",
          "text": [
            "selu - adam \n",
            "Epoch 1/5\n",
            "938/938 [==============================] - 6s 5ms/step - loss: 0.4261 - accuracy: 0.8724 - val_loss: 0.2365 - val_accuracy: 0.9294\n",
            "Epoch 2/5\n",
            "938/938 [==============================] - 4s 4ms/step - loss: 0.2854 - accuracy: 0.9144 - val_loss: 0.1738 - val_accuracy: 0.9474\n",
            "Epoch 3/5\n",
            "938/938 [==============================] - 4s 4ms/step - loss: 0.2306 - accuracy: 0.9307 - val_loss: 0.1490 - val_accuracy: 0.9544\n",
            "Epoch 4/5\n",
            "938/938 [==============================] - 5s 5ms/step - loss: 0.2029 - accuracy: 0.9384 - val_loss: 0.1331 - val_accuracy: 0.9603\n",
            "Epoch 5/5\n",
            "938/938 [==============================] - 4s 4ms/step - loss: 0.1796 - accuracy: 0.9440 - val_loss: 0.1158 - val_accuracy: 0.9630\n",
            "selu - sgd \n"
          ]
        },
        {
          "output_type": "stream",
          "name": "stderr",
          "text": [
            "<ipython-input-11-415a7874c3fd>:26: FutureWarning: The frame.append method is deprecated and will be removed from pandas in a future version. Use pandas.concat instead.\n",
            "  results_df = results_df.append({'Activation': activation, 'Optimizer': optimizer, 'Accuracy': history.history['val_accuracy'][-1]}, ignore_index=True)\n"
          ]
        },
        {
          "output_type": "stream",
          "name": "stdout",
          "text": [
            "Epoch 1/5\n",
            "938/938 [==============================] - 5s 4ms/step - loss: 0.6880 - accuracy: 0.7881 - val_loss: 0.3525 - val_accuracy: 0.8985\n",
            "Epoch 2/5\n",
            "938/938 [==============================] - 4s 5ms/step - loss: 0.4263 - accuracy: 0.8723 - val_loss: 0.3072 - val_accuracy: 0.9121\n",
            "Epoch 3/5\n",
            "938/938 [==============================] - 4s 4ms/step - loss: 0.3846 - accuracy: 0.8859 - val_loss: 0.2901 - val_accuracy: 0.9170\n",
            "Epoch 4/5\n",
            "938/938 [==============================] - 4s 4ms/step - loss: 0.3626 - accuracy: 0.8935 - val_loss: 0.2752 - val_accuracy: 0.9196\n",
            "Epoch 5/5\n",
            "938/938 [==============================] - 4s 5ms/step - loss: 0.3488 - accuracy: 0.8976 - val_loss: 0.2677 - val_accuracy: 0.9225\n",
            "selu - rmsprop \n"
          ]
        },
        {
          "output_type": "stream",
          "name": "stderr",
          "text": [
            "<ipython-input-11-415a7874c3fd>:26: FutureWarning: The frame.append method is deprecated and will be removed from pandas in a future version. Use pandas.concat instead.\n",
            "  results_df = results_df.append({'Activation': activation, 'Optimizer': optimizer, 'Accuracy': history.history['val_accuracy'][-1]}, ignore_index=True)\n"
          ]
        },
        {
          "output_type": "stream",
          "name": "stdout",
          "text": [
            "Epoch 1/5\n",
            "938/938 [==============================] - 5s 4ms/step - loss: 0.4220 - accuracy: 0.8722 - val_loss: 0.2450 - val_accuracy: 0.9227\n",
            "Epoch 2/5\n",
            "938/938 [==============================] - 4s 4ms/step - loss: 0.2852 - accuracy: 0.9152 - val_loss: 0.1801 - val_accuracy: 0.9476\n",
            "Epoch 3/5\n",
            "938/938 [==============================] - 4s 4ms/step - loss: 0.2318 - accuracy: 0.9310 - val_loss: 0.1549 - val_accuracy: 0.9515\n",
            "Epoch 4/5\n",
            "938/938 [==============================] - 4s 4ms/step - loss: 0.2017 - accuracy: 0.9393 - val_loss: 0.1277 - val_accuracy: 0.9627\n",
            "Epoch 5/5\n",
            "938/938 [==============================] - 4s 4ms/step - loss: 0.1801 - accuracy: 0.9458 - val_loss: 0.1224 - val_accuracy: 0.9629\n"
          ]
        },
        {
          "output_type": "stream",
          "name": "stderr",
          "text": [
            "<ipython-input-11-415a7874c3fd>:26: FutureWarning: The frame.append method is deprecated and will be removed from pandas in a future version. Use pandas.concat instead.\n",
            "  results_df = results_df.append({'Activation': activation, 'Optimizer': optimizer, 'Accuracy': history.history['val_accuracy'][-1]}, ignore_index=True)\n"
          ]
        },
        {
          "output_type": "stream",
          "name": "stdout",
          "text": [
            "selu - adagrad \n",
            "Epoch 1/5\n",
            "938/938 [==============================] - 6s 5ms/step - loss: 1.0633 - accuracy: 0.6570 - val_loss: 0.5633 - val_accuracy: 0.8499\n",
            "Epoch 2/5\n",
            "938/938 [==============================] - 4s 4ms/step - loss: 0.6366 - accuracy: 0.8062 - val_loss: 0.4501 - val_accuracy: 0.8801\n",
            "Epoch 3/5\n",
            "938/938 [==============================] - 5s 5ms/step - loss: 0.5481 - accuracy: 0.8352 - val_loss: 0.4043 - val_accuracy: 0.8902\n",
            "Epoch 4/5\n",
            "938/938 [==============================] - 4s 4ms/step - loss: 0.5037 - accuracy: 0.8492 - val_loss: 0.3769 - val_accuracy: 0.8954\n",
            "Epoch 5/5\n",
            "938/938 [==============================] - 4s 4ms/step - loss: 0.4772 - accuracy: 0.8583 - val_loss: 0.3589 - val_accuracy: 0.8991\n"
          ]
        },
        {
          "output_type": "stream",
          "name": "stderr",
          "text": [
            "<ipython-input-11-415a7874c3fd>:26: FutureWarning: The frame.append method is deprecated and will be removed from pandas in a future version. Use pandas.concat instead.\n",
            "  results_df = results_df.append({'Activation': activation, 'Optimizer': optimizer, 'Accuracy': history.history['val_accuracy'][-1]}, ignore_index=True)\n"
          ]
        },
        {
          "output_type": "stream",
          "name": "stdout",
          "text": [
            "selu - adadelta \n",
            "Epoch 1/5\n",
            "938/938 [==============================] - 5s 5ms/step - loss: 2.7239 - accuracy: 0.1006 - val_loss: 2.3321 - val_accuracy: 0.1294\n",
            "Epoch 2/5\n",
            "938/938 [==============================] - 4s 4ms/step - loss: 2.4070 - accuracy: 0.1589 - val_loss: 2.0647 - val_accuracy: 0.2523\n",
            "Epoch 3/5\n",
            "938/938 [==============================] - 4s 4ms/step - loss: 2.1706 - accuracy: 0.2311 - val_loss: 1.8477 - val_accuracy: 0.3976\n",
            "Epoch 4/5\n",
            "938/938 [==============================] - 4s 5ms/step - loss: 1.9715 - accuracy: 0.3107 - val_loss: 1.6675 - val_accuracy: 0.4965\n",
            "Epoch 5/5\n",
            "938/938 [==============================] - 4s 4ms/step - loss: 1.8075 - accuracy: 0.3785 - val_loss: 1.5170 - val_accuracy: 0.5634\n",
            "selu - adamax \n"
          ]
        },
        {
          "output_type": "stream",
          "name": "stderr",
          "text": [
            "<ipython-input-11-415a7874c3fd>:26: FutureWarning: The frame.append method is deprecated and will be removed from pandas in a future version. Use pandas.concat instead.\n",
            "  results_df = results_df.append({'Activation': activation, 'Optimizer': optimizer, 'Accuracy': history.history['val_accuracy'][-1]}, ignore_index=True)\n"
          ]
        },
        {
          "output_type": "stream",
          "name": "stdout",
          "text": [
            "Epoch 1/5\n",
            "938/938 [==============================] - 5s 4ms/step - loss: 0.5004 - accuracy: 0.8479 - val_loss: 0.2784 - val_accuracy: 0.9178\n",
            "Epoch 2/5\n",
            "938/938 [==============================] - 5s 5ms/step - loss: 0.3505 - accuracy: 0.8963 - val_loss: 0.2534 - val_accuracy: 0.9259\n",
            "Epoch 3/5\n",
            "938/938 [==============================] - 4s 4ms/step - loss: 0.3146 - accuracy: 0.9082 - val_loss: 0.2343 - val_accuracy: 0.9313\n",
            "Epoch 4/5\n",
            "938/938 [==============================] - 4s 4ms/step - loss: 0.2917 - accuracy: 0.9135 - val_loss: 0.2151 - val_accuracy: 0.9352\n",
            "Epoch 5/5\n",
            "938/938 [==============================] - 5s 5ms/step - loss: 0.2680 - accuracy: 0.9196 - val_loss: 0.1974 - val_accuracy: 0.9425\n"
          ]
        },
        {
          "output_type": "stream",
          "name": "stderr",
          "text": [
            "<ipython-input-11-415a7874c3fd>:26: FutureWarning: The frame.append method is deprecated and will be removed from pandas in a future version. Use pandas.concat instead.\n",
            "  results_df = results_df.append({'Activation': activation, 'Optimizer': optimizer, 'Accuracy': history.history['val_accuracy'][-1]}, ignore_index=True)\n"
          ]
        },
        {
          "output_type": "stream",
          "name": "stdout",
          "text": [
            "selu - nadam \n",
            "Epoch 1/5\n",
            "938/938 [==============================] - 7s 5ms/step - loss: 0.4305 - accuracy: 0.8694 - val_loss: 0.2388 - val_accuracy: 0.9290\n",
            "Epoch 2/5\n",
            "938/938 [==============================] - 4s 4ms/step - loss: 0.2854 - accuracy: 0.9143 - val_loss: 0.1778 - val_accuracy: 0.9459\n",
            "Epoch 3/5\n",
            "938/938 [==============================] - 6s 6ms/step - loss: 0.2343 - accuracy: 0.9288 - val_loss: 0.1479 - val_accuracy: 0.9536\n",
            "Epoch 4/5\n",
            "938/938 [==============================] - 4s 4ms/step - loss: 0.2020 - accuracy: 0.9378 - val_loss: 0.1360 - val_accuracy: 0.9574\n",
            "Epoch 5/5\n",
            "938/938 [==============================] - 4s 4ms/step - loss: 0.1778 - accuracy: 0.9452 - val_loss: 0.1194 - val_accuracy: 0.9623\n"
          ]
        },
        {
          "output_type": "stream",
          "name": "stderr",
          "text": [
            "<ipython-input-11-415a7874c3fd>:26: FutureWarning: The frame.append method is deprecated and will be removed from pandas in a future version. Use pandas.concat instead.\n",
            "  results_df = results_df.append({'Activation': activation, 'Optimizer': optimizer, 'Accuracy': history.history['val_accuracy'][-1]}, ignore_index=True)\n"
          ]
        },
        {
          "output_type": "stream",
          "name": "stdout",
          "text": [
            "selu - ftrl \n",
            "Epoch 1/5\n",
            "938/938 [==============================] - 5s 4ms/step - loss: 2.3032 - accuracy: 0.1115 - val_loss: 2.3023 - val_accuracy: 0.1135\n",
            "Epoch 2/5\n",
            "938/938 [==============================] - 4s 5ms/step - loss: 2.3022 - accuracy: 0.1124 - val_loss: 2.3021 - val_accuracy: 0.1135\n",
            "Epoch 3/5\n",
            "938/938 [==============================] - 4s 4ms/step - loss: 2.3021 - accuracy: 0.1124 - val_loss: 2.3020 - val_accuracy: 0.1135\n",
            "Epoch 4/5\n",
            "938/938 [==============================] - 4s 4ms/step - loss: 2.3020 - accuracy: 0.1124 - val_loss: 2.3019 - val_accuracy: 0.1135\n",
            "Epoch 5/5\n",
            "938/938 [==============================] - 5s 5ms/step - loss: 2.3019 - accuracy: 0.1124 - val_loss: 2.3019 - val_accuracy: 0.1135\n",
            "softmax - adam \n"
          ]
        },
        {
          "output_type": "stream",
          "name": "stderr",
          "text": [
            "<ipython-input-11-415a7874c3fd>:26: FutureWarning: The frame.append method is deprecated and will be removed from pandas in a future version. Use pandas.concat instead.\n",
            "  results_df = results_df.append({'Activation': activation, 'Optimizer': optimizer, 'Accuracy': history.history['val_accuracy'][-1]}, ignore_index=True)\n"
          ]
        },
        {
          "output_type": "stream",
          "name": "stdout",
          "text": [
            "Epoch 1/5\n",
            "938/938 [==============================] - 5s 4ms/step - loss: 2.1021 - accuracy: 0.4425 - val_loss: 1.6439 - val_accuracy: 0.7566\n",
            "Epoch 2/5\n",
            "938/938 [==============================] - 4s 4ms/step - loss: 1.4434 - accuracy: 0.5978 - val_loss: 0.9283 - val_accuracy: 0.7677\n",
            "Epoch 3/5\n",
            "938/938 [==============================] - 5s 5ms/step - loss: 1.1899 - accuracy: 0.6040 - val_loss: 0.7126 - val_accuracy: 0.7858\n",
            "Epoch 4/5\n",
            "938/938 [==============================] - 4s 4ms/step - loss: 1.0868 - accuracy: 0.6259 - val_loss: 0.6194 - val_accuracy: 0.8289\n",
            "Epoch 5/5\n",
            "938/938 [==============================] - 4s 5ms/step - loss: 1.0078 - accuracy: 0.6537 - val_loss: 0.5634 - val_accuracy: 0.8348\n",
            "softmax - sgd \n"
          ]
        },
        {
          "output_type": "stream",
          "name": "stderr",
          "text": [
            "<ipython-input-11-415a7874c3fd>:26: FutureWarning: The frame.append method is deprecated and will be removed from pandas in a future version. Use pandas.concat instead.\n",
            "  results_df = results_df.append({'Activation': activation, 'Optimizer': optimizer, 'Accuracy': history.history['val_accuracy'][-1]}, ignore_index=True)\n"
          ]
        },
        {
          "output_type": "stream",
          "name": "stdout",
          "text": [
            "Epoch 1/5\n",
            "938/938 [==============================] - 4s 4ms/step - loss: 2.3019 - accuracy: 0.1088 - val_loss: 2.3013 - val_accuracy: 0.1135\n",
            "Epoch 2/5\n",
            "938/938 [==============================] - 4s 4ms/step - loss: 2.3014 - accuracy: 0.1124 - val_loss: 2.3011 - val_accuracy: 0.1135\n",
            "Epoch 3/5\n",
            "938/938 [==============================] - 5s 5ms/step - loss: 2.3012 - accuracy: 0.1124 - val_loss: 2.3010 - val_accuracy: 0.1135\n",
            "Epoch 4/5\n",
            "938/938 [==============================] - 4s 4ms/step - loss: 2.3013 - accuracy: 0.1124 - val_loss: 2.3010 - val_accuracy: 0.1135\n",
            "Epoch 5/5\n",
            "938/938 [==============================] - 4s 4ms/step - loss: 2.3012 - accuracy: 0.1124 - val_loss: 2.3010 - val_accuracy: 0.1135\n"
          ]
        },
        {
          "output_type": "stream",
          "name": "stderr",
          "text": [
            "<ipython-input-11-415a7874c3fd>:26: FutureWarning: The frame.append method is deprecated and will be removed from pandas in a future version. Use pandas.concat instead.\n",
            "  results_df = results_df.append({'Activation': activation, 'Optimizer': optimizer, 'Accuracy': history.history['val_accuracy'][-1]}, ignore_index=True)\n"
          ]
        },
        {
          "output_type": "stream",
          "name": "stdout",
          "text": [
            "softmax - rmsprop \n",
            "Epoch 1/5\n",
            "938/938 [==============================] - 5s 5ms/step - loss: 2.3016 - accuracy: 0.1120 - val_loss: 2.3008 - val_accuracy: 0.1135\n",
            "Epoch 2/5\n",
            "938/938 [==============================] - 4s 4ms/step - loss: 2.2862 - accuracy: 0.1476 - val_loss: 2.2306 - val_accuracy: 0.2930\n",
            "Epoch 3/5\n",
            "938/938 [==============================] - 4s 4ms/step - loss: 2.0510 - accuracy: 0.2591 - val_loss: 1.7809 - val_accuracy: 0.3074\n",
            "Epoch 4/5\n",
            "938/938 [==============================] - 4s 5ms/step - loss: 1.7964 - accuracy: 0.2544 - val_loss: 1.5688 - val_accuracy: 0.3119\n",
            "Epoch 5/5\n",
            "938/938 [==============================] - 4s 4ms/step - loss: 1.7310 - accuracy: 0.2530 - val_loss: 1.5104 - val_accuracy: 0.3092\n",
            "softmax - adagrad \n"
          ]
        },
        {
          "output_type": "stream",
          "name": "stderr",
          "text": [
            "<ipython-input-11-415a7874c3fd>:26: FutureWarning: The frame.append method is deprecated and will be removed from pandas in a future version. Use pandas.concat instead.\n",
            "  results_df = results_df.append({'Activation': activation, 'Optimizer': optimizer, 'Accuracy': history.history['val_accuracy'][-1]}, ignore_index=True)\n"
          ]
        },
        {
          "output_type": "stream",
          "name": "stdout",
          "text": [
            "Epoch 1/5\n",
            "938/938 [==============================] - 5s 4ms/step - loss: 2.3027 - accuracy: 0.1012 - val_loss: 2.3024 - val_accuracy: 0.1028\n",
            "Epoch 2/5\n",
            "938/938 [==============================] - 4s 5ms/step - loss: 2.3025 - accuracy: 0.1013 - val_loss: 2.3022 - val_accuracy: 0.1028\n",
            "Epoch 3/5\n",
            "938/938 [==============================] - 4s 4ms/step - loss: 2.3023 - accuracy: 0.1073 - val_loss: 2.3021 - val_accuracy: 0.1135\n",
            "Epoch 4/5\n",
            "938/938 [==============================] - 4s 4ms/step - loss: 2.3022 - accuracy: 0.1084 - val_loss: 2.3020 - val_accuracy: 0.1135\n",
            "Epoch 5/5\n",
            "938/938 [==============================] - 4s 5ms/step - loss: 2.3022 - accuracy: 0.1086 - val_loss: 2.3019 - val_accuracy: 0.1135\n",
            "softmax - adadelta \n"
          ]
        },
        {
          "output_type": "stream",
          "name": "stderr",
          "text": [
            "<ipython-input-11-415a7874c3fd>:26: FutureWarning: The frame.append method is deprecated and will be removed from pandas in a future version. Use pandas.concat instead.\n",
            "  results_df = results_df.append({'Activation': activation, 'Optimizer': optimizer, 'Accuracy': history.history['val_accuracy'][-1]}, ignore_index=True)\n"
          ]
        },
        {
          "output_type": "stream",
          "name": "stdout",
          "text": [
            "Epoch 1/5\n",
            "938/938 [==============================] - 5s 4ms/step - loss: 2.3035 - accuracy: 0.0988 - val_loss: 2.3033 - val_accuracy: 0.1032\n",
            "Epoch 2/5\n",
            "938/938 [==============================] - 4s 4ms/step - loss: 2.3034 - accuracy: 0.0984 - val_loss: 2.3033 - val_accuracy: 0.1032\n",
            "Epoch 3/5\n",
            "938/938 [==============================] - 5s 5ms/step - loss: 2.3035 - accuracy: 0.0965 - val_loss: 2.3033 - val_accuracy: 0.1032\n",
            "Epoch 4/5\n",
            "938/938 [==============================] - 4s 4ms/step - loss: 2.3035 - accuracy: 0.0981 - val_loss: 2.3032 - val_accuracy: 0.1032\n",
            "Epoch 5/5\n",
            "938/938 [==============================] - 4s 4ms/step - loss: 2.3034 - accuracy: 0.0968 - val_loss: 2.3032 - val_accuracy: 0.1032\n",
            "softmax - adamax \n"
          ]
        },
        {
          "output_type": "stream",
          "name": "stderr",
          "text": [
            "<ipython-input-11-415a7874c3fd>:26: FutureWarning: The frame.append method is deprecated and will be removed from pandas in a future version. Use pandas.concat instead.\n",
            "  results_df = results_df.append({'Activation': activation, 'Optimizer': optimizer, 'Accuracy': history.history['val_accuracy'][-1]}, ignore_index=True)\n"
          ]
        },
        {
          "output_type": "stream",
          "name": "stdout",
          "text": [
            "Epoch 1/5\n",
            "938/938 [==============================] - 5s 4ms/step - loss: 2.2787 - accuracy: 0.2213 - val_loss: 2.2376 - val_accuracy: 0.4349\n",
            "Epoch 2/5\n",
            "938/938 [==============================] - 4s 4ms/step - loss: 2.1612 - accuracy: 0.5757 - val_loss: 2.0432 - val_accuracy: 0.8207\n",
            "Epoch 3/5\n",
            "938/938 [==============================] - 5s 5ms/step - loss: 1.9407 - accuracy: 0.6677 - val_loss: 1.7425 - val_accuracy: 0.8775\n",
            "Epoch 4/5\n",
            "938/938 [==============================] - 4s 4ms/step - loss: 1.6840 - accuracy: 0.6965 - val_loss: 1.4149 - val_accuracy: 0.8999\n",
            "Epoch 5/5\n",
            "938/938 [==============================] - 4s 4ms/step - loss: 1.4569 - accuracy: 0.7052 - val_loss: 1.1251 - val_accuracy: 0.9090\n"
          ]
        },
        {
          "output_type": "stream",
          "name": "stderr",
          "text": [
            "<ipython-input-11-415a7874c3fd>:26: FutureWarning: The frame.append method is deprecated and will be removed from pandas in a future version. Use pandas.concat instead.\n",
            "  results_df = results_df.append({'Activation': activation, 'Optimizer': optimizer, 'Accuracy': history.history['val_accuracy'][-1]}, ignore_index=True)\n"
          ]
        },
        {
          "output_type": "stream",
          "name": "stdout",
          "text": [
            "softmax - nadam \n",
            "Epoch 1/5\n",
            "938/938 [==============================] - 6s 5ms/step - loss: 2.1015 - accuracy: 0.5023 - val_loss: 1.6352 - val_accuracy: 0.8449\n",
            "Epoch 2/5\n",
            "938/938 [==============================] - 4s 4ms/step - loss: 1.4164 - accuracy: 0.6611 - val_loss: 0.8821 - val_accuracy: 0.8504\n",
            "Epoch 3/5\n",
            "938/938 [==============================] - 4s 5ms/step - loss: 1.1375 - accuracy: 0.6687 - val_loss: 0.6313 - val_accuracy: 0.8584\n",
            "Epoch 4/5\n",
            "938/938 [==============================] - 5s 5ms/step - loss: 1.0269 - accuracy: 0.6811 - val_loss: 0.5203 - val_accuracy: 0.8654\n",
            "Epoch 5/5\n",
            "938/938 [==============================] - 4s 5ms/step - loss: 0.9712 - accuracy: 0.6894 - val_loss: 0.4596 - val_accuracy: 0.8856\n",
            "softmax - ftrl \n"
          ]
        },
        {
          "output_type": "stream",
          "name": "stderr",
          "text": [
            "<ipython-input-11-415a7874c3fd>:26: FutureWarning: The frame.append method is deprecated and will be removed from pandas in a future version. Use pandas.concat instead.\n",
            "  results_df = results_df.append({'Activation': activation, 'Optimizer': optimizer, 'Accuracy': history.history['val_accuracy'][-1]}, ignore_index=True)\n"
          ]
        },
        {
          "output_type": "stream",
          "name": "stdout",
          "text": [
            "Epoch 1/5\n",
            "938/938 [==============================] - 6s 5ms/step - loss: 2.3024 - accuracy: 0.1117 - val_loss: 2.3022 - val_accuracy: 0.1135\n",
            "Epoch 2/5\n",
            "938/938 [==============================] - 4s 4ms/step - loss: 2.3022 - accuracy: 0.1124 - val_loss: 2.3021 - val_accuracy: 0.1135\n",
            "Epoch 3/5\n",
            "938/938 [==============================] - 4s 5ms/step - loss: 2.3021 - accuracy: 0.1124 - val_loss: 2.3020 - val_accuracy: 0.1135\n",
            "Epoch 4/5\n",
            "938/938 [==============================] - 4s 5ms/step - loss: 2.3020 - accuracy: 0.1124 - val_loss: 2.3019 - val_accuracy: 0.1135\n",
            "Epoch 5/5\n",
            "938/938 [==============================] - 4s 4ms/step - loss: 2.3019 - accuracy: 0.1124 - val_loss: 2.3018 - val_accuracy: 0.1135\n"
          ]
        },
        {
          "output_type": "stream",
          "name": "stderr",
          "text": [
            "<ipython-input-11-415a7874c3fd>:26: FutureWarning: The frame.append method is deprecated and will be removed from pandas in a future version. Use pandas.concat instead.\n",
            "  results_df = results_df.append({'Activation': activation, 'Optimizer': optimizer, 'Accuracy': history.history['val_accuracy'][-1]}, ignore_index=True)\n"
          ]
        },
        {
          "output_type": "stream",
          "name": "stdout",
          "text": [
            "softplus - adam \n",
            "Epoch 1/5\n",
            "938/938 [==============================] - 5s 4ms/step - loss: 0.5646 - accuracy: 0.8210 - val_loss: 0.2157 - val_accuracy: 0.9343\n",
            "Epoch 2/5\n",
            "938/938 [==============================] - 5s 5ms/step - loss: 0.2681 - accuracy: 0.9191 - val_loss: 0.1565 - val_accuracy: 0.9509\n",
            "Epoch 3/5\n",
            "938/938 [==============================] - 4s 4ms/step - loss: 0.2027 - accuracy: 0.9386 - val_loss: 0.1223 - val_accuracy: 0.9608\n",
            "Epoch 4/5\n",
            "938/938 [==============================] - 4s 4ms/step - loss: 0.1663 - accuracy: 0.9488 - val_loss: 0.1025 - val_accuracy: 0.9685\n",
            "Epoch 5/5\n",
            "938/938 [==============================] - 4s 5ms/step - loss: 0.1421 - accuracy: 0.9560 - val_loss: 0.0955 - val_accuracy: 0.9704\n",
            "softplus - sgd \n"
          ]
        },
        {
          "output_type": "stream",
          "name": "stderr",
          "text": [
            "<ipython-input-11-415a7874c3fd>:26: FutureWarning: The frame.append method is deprecated and will be removed from pandas in a future version. Use pandas.concat instead.\n",
            "  results_df = results_df.append({'Activation': activation, 'Optimizer': optimizer, 'Accuracy': history.history['val_accuracy'][-1]}, ignore_index=True)\n"
          ]
        },
        {
          "output_type": "stream",
          "name": "stdout",
          "text": [
            "Epoch 1/5\n",
            "938/938 [==============================] - 5s 4ms/step - loss: 1.7904 - accuracy: 0.3777 - val_loss: 0.8820 - val_accuracy: 0.7944\n",
            "Epoch 2/5\n",
            "938/938 [==============================] - 4s 4ms/step - loss: 0.9869 - accuracy: 0.6612 - val_loss: 0.5639 - val_accuracy: 0.8512\n",
            "Epoch 3/5\n",
            "938/938 [==============================] - 5s 5ms/step - loss: 0.7686 - accuracy: 0.7431 - val_loss: 0.4691 - val_accuracy: 0.8719\n",
            "Epoch 4/5\n",
            "938/938 [==============================] - 4s 4ms/step - loss: 0.6735 - accuracy: 0.7776 - val_loss: 0.4208 - val_accuracy: 0.8841\n",
            "Epoch 5/5\n",
            "938/938 [==============================] - 4s 4ms/step - loss: 0.6169 - accuracy: 0.8014 - val_loss: 0.3898 - val_accuracy: 0.8914\n"
          ]
        },
        {
          "output_type": "stream",
          "name": "stderr",
          "text": [
            "<ipython-input-11-415a7874c3fd>:26: FutureWarning: The frame.append method is deprecated and will be removed from pandas in a future version. Use pandas.concat instead.\n",
            "  results_df = results_df.append({'Activation': activation, 'Optimizer': optimizer, 'Accuracy': history.history['val_accuracy'][-1]}, ignore_index=True)\n"
          ]
        },
        {
          "output_type": "stream",
          "name": "stdout",
          "text": [
            "softplus - rmsprop \n",
            "Epoch 1/5\n",
            "938/938 [==============================] - 5s 5ms/step - loss: 0.5592 - accuracy: 0.8207 - val_loss: 0.2117 - val_accuracy: 0.9356\n",
            "Epoch 2/5\n",
            "938/938 [==============================] - 4s 4ms/step - loss: 0.2710 - accuracy: 0.9183 - val_loss: 0.1479 - val_accuracy: 0.9541\n",
            "Epoch 3/5\n",
            "938/938 [==============================] - 4s 4ms/step - loss: 0.2083 - accuracy: 0.9376 - val_loss: 0.1238 - val_accuracy: 0.9621\n",
            "Epoch 4/5\n",
            "938/938 [==============================] - 4s 5ms/step - loss: 0.1775 - accuracy: 0.9471 - val_loss: 0.1076 - val_accuracy: 0.9670\n",
            "Epoch 5/5\n",
            "938/938 [==============================] - 4s 4ms/step - loss: 0.1574 - accuracy: 0.9544 - val_loss: 0.0975 - val_accuracy: 0.9703\n"
          ]
        },
        {
          "output_type": "stream",
          "name": "stderr",
          "text": [
            "<ipython-input-11-415a7874c3fd>:26: FutureWarning: The frame.append method is deprecated and will be removed from pandas in a future version. Use pandas.concat instead.\n",
            "  results_df = results_df.append({'Activation': activation, 'Optimizer': optimizer, 'Accuracy': history.history['val_accuracy'][-1]}, ignore_index=True)\n"
          ]
        },
        {
          "output_type": "stream",
          "name": "stdout",
          "text": [
            "softplus - adagrad \n",
            "Epoch 1/5\n",
            "938/938 [==============================] - 5s 4ms/step - loss: 2.2930 - accuracy: 0.1820 - val_loss: 1.9154 - val_accuracy: 0.5752\n",
            "Epoch 2/5\n",
            "938/938 [==============================] - 4s 4ms/step - loss: 1.9234 - accuracy: 0.3302 - val_loss: 1.5779 - val_accuracy: 0.6806\n",
            "Epoch 3/5\n",
            "938/938 [==============================] - 4s 4ms/step - loss: 1.6484 - accuracy: 0.4388 - val_loss: 1.2603 - val_accuracy: 0.7509\n",
            "Epoch 4/5\n",
            "938/938 [==============================] - 4s 4ms/step - loss: 1.4198 - accuracy: 0.5148 - val_loss: 1.0206 - val_accuracy: 0.7937\n",
            "Epoch 5/5\n",
            "938/938 [==============================] - 4s 5ms/step - loss: 1.2523 - accuracy: 0.5717 - val_loss: 0.8647 - val_accuracy: 0.8205\n",
            "softplus - adadelta \n"
          ]
        },
        {
          "output_type": "stream",
          "name": "stderr",
          "text": [
            "<ipython-input-11-415a7874c3fd>:26: FutureWarning: The frame.append method is deprecated and will be removed from pandas in a future version. Use pandas.concat instead.\n",
            "  results_df = results_df.append({'Activation': activation, 'Optimizer': optimizer, 'Accuracy': history.history['val_accuracy'][-1]}, ignore_index=True)\n"
          ]
        },
        {
          "output_type": "stream",
          "name": "stdout",
          "text": [
            "Epoch 1/5\n",
            "938/938 [==============================] - 5s 4ms/step - loss: 2.9260 - accuracy: 0.0982 - val_loss: 2.5001 - val_accuracy: 0.0894\n",
            "Epoch 2/5\n",
            "938/938 [==============================] - 4s 4ms/step - loss: 2.6971 - accuracy: 0.1055 - val_loss: 2.3406 - val_accuracy: 0.1196\n",
            "Epoch 3/5\n",
            "938/938 [==============================] - 4s 4ms/step - loss: 2.5629 - accuracy: 0.1147 - val_loss: 2.2414 - val_accuracy: 0.1659\n",
            "Epoch 4/5\n",
            "938/938 [==============================] - 4s 4ms/step - loss: 2.4647 - accuracy: 0.1299 - val_loss: 2.1716 - val_accuracy: 0.2145\n",
            "Epoch 5/5\n",
            "938/938 [==============================] - 4s 4ms/step - loss: 2.3969 - accuracy: 0.1415 - val_loss: 2.1178 - val_accuracy: 0.2891\n",
            "softplus - adamax \n"
          ]
        },
        {
          "output_type": "stream",
          "name": "stderr",
          "text": [
            "<ipython-input-11-415a7874c3fd>:26: FutureWarning: The frame.append method is deprecated and will be removed from pandas in a future version. Use pandas.concat instead.\n",
            "  results_df = results_df.append({'Activation': activation, 'Optimizer': optimizer, 'Accuracy': history.history['val_accuracy'][-1]}, ignore_index=True)\n"
          ]
        },
        {
          "output_type": "stream",
          "name": "stdout",
          "text": [
            "Epoch 1/5\n",
            "938/938 [==============================] - 5s 5ms/step - loss: 0.8422 - accuracy: 0.7225 - val_loss: 0.3260 - val_accuracy: 0.9089\n",
            "Epoch 2/5\n",
            "938/938 [==============================] - 4s 4ms/step - loss: 0.4363 - accuracy: 0.8637 - val_loss: 0.2598 - val_accuracy: 0.9243\n",
            "Epoch 3/5\n",
            "938/938 [==============================] - 5s 5ms/step - loss: 0.3575 - accuracy: 0.8911 - val_loss: 0.2243 - val_accuracy: 0.9326\n",
            "Epoch 4/5\n",
            "938/938 [==============================] - 4s 4ms/step - loss: 0.3111 - accuracy: 0.9061 - val_loss: 0.1954 - val_accuracy: 0.9397\n",
            "Epoch 5/5\n",
            "938/938 [==============================] - 4s 4ms/step - loss: 0.2754 - accuracy: 0.9166 - val_loss: 0.1765 - val_accuracy: 0.9460\n"
          ]
        },
        {
          "output_type": "stream",
          "name": "stderr",
          "text": [
            "<ipython-input-11-415a7874c3fd>:26: FutureWarning: The frame.append method is deprecated and will be removed from pandas in a future version. Use pandas.concat instead.\n",
            "  results_df = results_df.append({'Activation': activation, 'Optimizer': optimizer, 'Accuracy': history.history['val_accuracy'][-1]}, ignore_index=True)\n"
          ]
        },
        {
          "output_type": "stream",
          "name": "stdout",
          "text": [
            "softplus - nadam \n",
            "Epoch 1/5\n",
            "938/938 [==============================] - 7s 6ms/step - loss: 0.5774 - accuracy: 0.8150 - val_loss: 0.2168 - val_accuracy: 0.9337\n",
            "Epoch 2/5\n",
            "938/938 [==============================] - 4s 4ms/step - loss: 0.2742 - accuracy: 0.9175 - val_loss: 0.1510 - val_accuracy: 0.9532\n",
            "Epoch 3/5\n",
            "938/938 [==============================] - 5s 5ms/step - loss: 0.2091 - accuracy: 0.9365 - val_loss: 0.1270 - val_accuracy: 0.9614\n",
            "Epoch 4/5\n",
            "938/938 [==============================] - 5s 5ms/step - loss: 0.1730 - accuracy: 0.9486 - val_loss: 0.1082 - val_accuracy: 0.9682\n",
            "Epoch 5/5\n",
            "938/938 [==============================] - 4s 5ms/step - loss: 0.1503 - accuracy: 0.9541 - val_loss: 0.0976 - val_accuracy: 0.9693\n"
          ]
        },
        {
          "output_type": "stream",
          "name": "stderr",
          "text": [
            "<ipython-input-11-415a7874c3fd>:26: FutureWarning: The frame.append method is deprecated and will be removed from pandas in a future version. Use pandas.concat instead.\n",
            "  results_df = results_df.append({'Activation': activation, 'Optimizer': optimizer, 'Accuracy': history.history['val_accuracy'][-1]}, ignore_index=True)\n"
          ]
        },
        {
          "output_type": "stream",
          "name": "stdout",
          "text": [
            "softplus - ftrl \n",
            "Epoch 1/5\n",
            "938/938 [==============================] - 5s 4ms/step - loss: 2.3033 - accuracy: 0.1081 - val_loss: 2.3010 - val_accuracy: 0.1135\n",
            "Epoch 2/5\n",
            "938/938 [==============================] - 4s 4ms/step - loss: 2.3018 - accuracy: 0.1126 - val_loss: 2.3010 - val_accuracy: 0.1135\n",
            "Epoch 3/5\n",
            "938/938 [==============================] - 4s 4ms/step - loss: 2.3018 - accuracy: 0.1119 - val_loss: 2.3011 - val_accuracy: 0.1135\n",
            "Epoch 4/5\n",
            "938/938 [==============================] - 4s 4ms/step - loss: 2.3020 - accuracy: 0.1113 - val_loss: 2.3011 - val_accuracy: 0.1135\n",
            "Epoch 5/5\n",
            "938/938 [==============================] - 4s 4ms/step - loss: 2.3020 - accuracy: 0.1122 - val_loss: 2.3010 - val_accuracy: 0.1135\n",
            "softsign - adam \n"
          ]
        },
        {
          "output_type": "stream",
          "name": "stderr",
          "text": [
            "<ipython-input-11-415a7874c3fd>:26: FutureWarning: The frame.append method is deprecated and will be removed from pandas in a future version. Use pandas.concat instead.\n",
            "  results_df = results_df.append({'Activation': activation, 'Optimizer': optimizer, 'Accuracy': history.history['val_accuracy'][-1]}, ignore_index=True)\n"
          ]
        },
        {
          "output_type": "stream",
          "name": "stdout",
          "text": [
            "Epoch 1/5\n",
            "938/938 [==============================] - 6s 5ms/step - loss: 0.4153 - accuracy: 0.8857 - val_loss: 0.2171 - val_accuracy: 0.9371\n",
            "Epoch 2/5\n",
            "938/938 [==============================] - 4s 4ms/step - loss: 0.2400 - accuracy: 0.9299 - val_loss: 0.1734 - val_accuracy: 0.9484\n",
            "Epoch 3/5\n",
            "938/938 [==============================] - 5s 5ms/step - loss: 0.1991 - accuracy: 0.9406 - val_loss: 0.1535 - val_accuracy: 0.9537\n",
            "Epoch 4/5\n",
            "938/938 [==============================] - 4s 4ms/step - loss: 0.1772 - accuracy: 0.9472 - val_loss: 0.1255 - val_accuracy: 0.9624\n",
            "Epoch 5/5\n",
            "938/938 [==============================] - 4s 4ms/step - loss: 0.1606 - accuracy: 0.9524 - val_loss: 0.1211 - val_accuracy: 0.9632\n",
            "softsign - sgd \n"
          ]
        },
        {
          "output_type": "stream",
          "name": "stderr",
          "text": [
            "<ipython-input-11-415a7874c3fd>:26: FutureWarning: The frame.append method is deprecated and will be removed from pandas in a future version. Use pandas.concat instead.\n",
            "  results_df = results_df.append({'Activation': activation, 'Optimizer': optimizer, 'Accuracy': history.history['val_accuracy'][-1]}, ignore_index=True)\n"
          ]
        },
        {
          "output_type": "stream",
          "name": "stdout",
          "text": [
            "Epoch 1/5\n",
            "938/938 [==============================] - 5s 5ms/step - loss: 1.2644 - accuracy: 0.6775 - val_loss: 0.7147 - val_accuracy: 0.8475\n",
            "Epoch 2/5\n",
            "938/938 [==============================] - 4s 4ms/step - loss: 0.6427 - accuracy: 0.8443 - val_loss: 0.4772 - val_accuracy: 0.8852\n",
            "Epoch 3/5\n",
            "938/938 [==============================] - 4s 4ms/step - loss: 0.4955 - accuracy: 0.8695 - val_loss: 0.3925 - val_accuracy: 0.8959\n",
            "Epoch 4/5\n",
            "938/938 [==============================] - 5s 5ms/step - loss: 0.4301 - accuracy: 0.8834 - val_loss: 0.3488 - val_accuracy: 0.9041\n",
            "Epoch 5/5\n",
            "938/938 [==============================] - 4s 4ms/step - loss: 0.3927 - accuracy: 0.8912 - val_loss: 0.3221 - val_accuracy: 0.9088\n"
          ]
        },
        {
          "output_type": "stream",
          "name": "stderr",
          "text": [
            "<ipython-input-11-415a7874c3fd>:26: FutureWarning: The frame.append method is deprecated and will be removed from pandas in a future version. Use pandas.concat instead.\n",
            "  results_df = results_df.append({'Activation': activation, 'Optimizer': optimizer, 'Accuracy': history.history['val_accuracy'][-1]}, ignore_index=True)\n"
          ]
        },
        {
          "output_type": "stream",
          "name": "stdout",
          "text": [
            "softsign - rmsprop \n",
            "Epoch 1/5\n",
            "938/938 [==============================] - 5s 4ms/step - loss: 0.4037 - accuracy: 0.8891 - val_loss: 0.2283 - val_accuracy: 0.9313\n",
            "Epoch 2/5\n",
            "938/938 [==============================] - 5s 5ms/step - loss: 0.2464 - accuracy: 0.9280 - val_loss: 0.1722 - val_accuracy: 0.9484\n",
            "Epoch 3/5\n",
            "938/938 [==============================] - 4s 4ms/step - loss: 0.2086 - accuracy: 0.9391 - val_loss: 0.1493 - val_accuracy: 0.9535\n",
            "Epoch 4/5\n",
            "938/938 [==============================] - 4s 4ms/step - loss: 0.1836 - accuracy: 0.9448 - val_loss: 0.1358 - val_accuracy: 0.9598\n",
            "Epoch 5/5\n",
            "938/938 [==============================] - 4s 5ms/step - loss: 0.1687 - accuracy: 0.9501 - val_loss: 0.1235 - val_accuracy: 0.9633\n"
          ]
        },
        {
          "output_type": "stream",
          "name": "stderr",
          "text": [
            "<ipython-input-11-415a7874c3fd>:26: FutureWarning: The frame.append method is deprecated and will be removed from pandas in a future version. Use pandas.concat instead.\n",
            "  results_df = results_df.append({'Activation': activation, 'Optimizer': optimizer, 'Accuracy': history.history['val_accuracy'][-1]}, ignore_index=True)\n"
          ]
        },
        {
          "output_type": "stream",
          "name": "stdout",
          "text": [
            "softsign - adagrad \n",
            "Epoch 1/5\n",
            "938/938 [==============================] - 5s 5ms/step - loss: 1.7863 - accuracy: 0.5031 - val_loss: 1.3488 - val_accuracy: 0.7431\n",
            "Epoch 2/5\n",
            "938/938 [==============================] - 4s 4ms/step - loss: 1.2300 - accuracy: 0.7347 - val_loss: 1.0103 - val_accuracy: 0.8067\n",
            "Epoch 3/5\n",
            "938/938 [==============================] - 4s 4ms/step - loss: 0.9902 - accuracy: 0.7865 - val_loss: 0.8373 - val_accuracy: 0.8371\n",
            "Epoch 4/5\n",
            "938/938 [==============================] - 5s 5ms/step - loss: 0.8534 - accuracy: 0.8137 - val_loss: 0.7292 - val_accuracy: 0.8527\n",
            "Epoch 5/5\n",
            "938/938 [==============================] - 4s 4ms/step - loss: 0.7641 - accuracy: 0.8296 - val_loss: 0.6546 - val_accuracy: 0.8640\n"
          ]
        },
        {
          "output_type": "stream",
          "name": "stderr",
          "text": [
            "<ipython-input-11-415a7874c3fd>:26: FutureWarning: The frame.append method is deprecated and will be removed from pandas in a future version. Use pandas.concat instead.\n",
            "  results_df = results_df.append({'Activation': activation, 'Optimizer': optimizer, 'Accuracy': history.history['val_accuracy'][-1]}, ignore_index=True)\n"
          ]
        },
        {
          "output_type": "stream",
          "name": "stdout",
          "text": [
            "softsign - adadelta \n",
            "Epoch 1/5\n",
            "938/938 [==============================] - 5s 4ms/step - loss: 2.3156 - accuracy: 0.1111 - val_loss: 2.2462 - val_accuracy: 0.1530\n",
            "Epoch 2/5\n",
            "938/938 [==============================] - 4s 5ms/step - loss: 2.2370 - accuracy: 0.1677 - val_loss: 2.1641 - val_accuracy: 0.2640\n",
            "Epoch 3/5\n",
            "938/938 [==============================] - 4s 4ms/step - loss: 2.1609 - accuracy: 0.2375 - val_loss: 2.0863 - val_accuracy: 0.3884\n",
            "Epoch 4/5\n",
            "938/938 [==============================] - 4s 4ms/step - loss: 2.0895 - accuracy: 0.3150 - val_loss: 2.0119 - val_accuracy: 0.4858\n",
            "Epoch 5/5\n",
            "938/938 [==============================] - 4s 5ms/step - loss: 2.0212 - accuracy: 0.3865 - val_loss: 1.9402 - val_accuracy: 0.5556\n"
          ]
        },
        {
          "output_type": "stream",
          "name": "stderr",
          "text": [
            "<ipython-input-11-415a7874c3fd>:26: FutureWarning: The frame.append method is deprecated and will be removed from pandas in a future version. Use pandas.concat instead.\n",
            "  results_df = results_df.append({'Activation': activation, 'Optimizer': optimizer, 'Accuracy': history.history['val_accuracy'][-1]}, ignore_index=True)\n"
          ]
        },
        {
          "output_type": "stream",
          "name": "stdout",
          "text": [
            "softsign - adamax \n",
            "Epoch 1/5\n",
            "938/938 [==============================] - 5s 4ms/step - loss: 0.5634 - accuracy: 0.8546 - val_loss: 0.2868 - val_accuracy: 0.9190\n",
            "Epoch 2/5\n",
            "938/938 [==============================] - 4s 4ms/step - loss: 0.3083 - accuracy: 0.9097 - val_loss: 0.2421 - val_accuracy: 0.9290\n",
            "Epoch 3/5\n",
            "938/938 [==============================] - 5s 6ms/step - loss: 0.2681 - accuracy: 0.9218 - val_loss: 0.2127 - val_accuracy: 0.9371\n",
            "Epoch 4/5\n",
            "938/938 [==============================] - 4s 4ms/step - loss: 0.2453 - accuracy: 0.9283 - val_loss: 0.1949 - val_accuracy: 0.9429\n",
            "Epoch 5/5\n",
            "938/938 [==============================] - 4s 4ms/step - loss: 0.2276 - accuracy: 0.9340 - val_loss: 0.1840 - val_accuracy: 0.9459\n"
          ]
        },
        {
          "output_type": "stream",
          "name": "stderr",
          "text": [
            "<ipython-input-11-415a7874c3fd>:26: FutureWarning: The frame.append method is deprecated and will be removed from pandas in a future version. Use pandas.concat instead.\n",
            "  results_df = results_df.append({'Activation': activation, 'Optimizer': optimizer, 'Accuracy': history.history['val_accuracy'][-1]}, ignore_index=True)\n"
          ]
        },
        {
          "output_type": "stream",
          "name": "stdout",
          "text": [
            "softsign - nadam \n",
            "Epoch 1/5\n",
            "938/938 [==============================] - 7s 6ms/step - loss: 0.4214 - accuracy: 0.8851 - val_loss: 0.2191 - val_accuracy: 0.9359\n",
            "Epoch 2/5\n",
            "938/938 [==============================] - 5s 5ms/step - loss: 0.2393 - accuracy: 0.9292 - val_loss: 0.1765 - val_accuracy: 0.9459\n",
            "Epoch 3/5\n",
            "938/938 [==============================] - 5s 5ms/step - loss: 0.1982 - accuracy: 0.9406 - val_loss: 0.1449 - val_accuracy: 0.9561\n",
            "Epoch 4/5\n",
            "938/938 [==============================] - 5s 6ms/step - loss: 0.1727 - accuracy: 0.9487 - val_loss: 0.1286 - val_accuracy: 0.9598\n",
            "Epoch 5/5\n",
            "938/938 [==============================] - 5s 5ms/step - loss: 0.1590 - accuracy: 0.9520 - val_loss: 0.1225 - val_accuracy: 0.9631\n",
            "softsign - ftrl \n"
          ]
        },
        {
          "output_type": "stream",
          "name": "stderr",
          "text": [
            "<ipython-input-11-415a7874c3fd>:26: FutureWarning: The frame.append method is deprecated and will be removed from pandas in a future version. Use pandas.concat instead.\n",
            "  results_df = results_df.append({'Activation': activation, 'Optimizer': optimizer, 'Accuracy': history.history['val_accuracy'][-1]}, ignore_index=True)\n"
          ]
        },
        {
          "output_type": "stream",
          "name": "stdout",
          "text": [
            "Epoch 1/5\n",
            "938/938 [==============================] - 6s 5ms/step - loss: 2.3025 - accuracy: 0.1118 - val_loss: 2.3023 - val_accuracy: 0.1135\n",
            "Epoch 2/5\n",
            "938/938 [==============================] - 4s 4ms/step - loss: 2.3022 - accuracy: 0.1124 - val_loss: 2.3021 - val_accuracy: 0.1135\n",
            "Epoch 3/5\n",
            "938/938 [==============================] - 4s 4ms/step - loss: 2.3021 - accuracy: 0.1124 - val_loss: 2.3020 - val_accuracy: 0.1135\n",
            "Epoch 4/5\n",
            "938/938 [==============================] - 5s 5ms/step - loss: 2.3020 - accuracy: 0.1124 - val_loss: 2.3020 - val_accuracy: 0.1135\n",
            "Epoch 5/5\n",
            "938/938 [==============================] - 4s 4ms/step - loss: 2.3020 - accuracy: 0.1124 - val_loss: 2.3019 - val_accuracy: 0.1135\n",
            "   Activation Optimizer  Accuracy\n",
            "0        relu      adam    0.9743\n",
            "1        relu       sgd    0.9321\n",
            "2        relu   rmsprop    0.9763\n",
            "3        relu   adagrad    0.8780\n",
            "4        relu  adadelta    0.3978\n",
            "..        ...       ...       ...\n",
            "59   softsign   adagrad    0.8640\n",
            "60   softsign  adadelta    0.5556\n",
            "61   softsign    adamax    0.9459\n",
            "62   softsign     nadam    0.9631\n",
            "63   softsign      ftrl    0.1135\n",
            "\n",
            "[64 rows x 3 columns]\n"
          ]
        },
        {
          "output_type": "stream",
          "name": "stderr",
          "text": [
            "<ipython-input-11-415a7874c3fd>:26: FutureWarning: The frame.append method is deprecated and will be removed from pandas in a future version. Use pandas.concat instead.\n",
            "  results_df = results_df.append({'Activation': activation, 'Optimizer': optimizer, 'Accuracy': history.history['val_accuracy'][-1]}, ignore_index=True)\n"
          ]
        }
      ]
    },
    {
      "cell_type": "code",
      "source": [
        "results_df.to_csv(\"Result.csv\")"
      ],
      "metadata": {
        "id": "DEJ-RHR8FIYm"
      },
      "execution_count": 13,
      "outputs": []
    },
    {
      "cell_type": "code",
      "source": [],
      "metadata": {
        "id": "yJTk8gfmNhly"
      },
      "execution_count": 17,
      "outputs": []
    },
    {
      "cell_type": "code",
      "source": [],
      "metadata": {
        "id": "aTQt5nUWFSB3"
      },
      "execution_count": 17,
      "outputs": []
    }
  ]
}